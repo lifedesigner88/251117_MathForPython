{
 "cells": [
  {
   "metadata": {
    "ExecuteTime": {
     "end_time": "2025-10-22T03:46:03.726818Z",
     "start_time": "2025-10-22T03:46:03.722817Z"
    }
   },
   "cell_type": "code",
   "source": [
    "from numpy import emath\n",
    "import numpy as np\n",
    "\n",
    "a = 3\n",
    "b = 7\n",
    "c = 5\n",
    "\n",
    "quadeP = (-b + emath.sqrt(b*b - 4*a*c))/(2*a)\n",
    "quadeN = (-b - emath.sqrt(b*b - 4*a*c))/(2*a)\n",
    "\n",
    "print(quadeP)\n",
    "print(quadeN)\n",
    "\n"
   ],
   "id": "f954abc07632c4c2",
   "outputs": [
    {
     "name": "stdout",
     "output_type": "stream",
     "text": [
      "(-1.1666666666666665+0.5527707983925666j)\n",
      "(-1.1666666666666665-0.5527707983925666j)\n"
     ]
    }
   ],
   "execution_count": 69
  },
  {
   "metadata": {
    "ExecuteTime": {
     "end_time": "2025-10-22T03:46:03.750668Z",
     "start_time": "2025-10-22T03:46:03.746908Z"
    }
   },
   "cell_type": "code",
   "source": [
    "def quadeq(aa, bb, cc):\n",
    "    out = np.zeros(2, dtype=complex)\n",
    "    out[0] = (-bb + emath.sqrt(bb*bb - 4*aa*cc))/(2*aa)\n",
    "    out[1] = (-bb - emath.sqrt(bb*bb - 4*aa*cc))/(2*aa)\n",
    "    return out\n",
    "\n",
    "print(quadeq(a, b, c)[0].real)"
   ],
   "id": "980f4fab1fbe05c4",
   "outputs": [
    {
     "name": "stdout",
     "output_type": "stream",
     "text": [
      "-1.1666666666666665\n"
     ]
    }
   ],
   "execution_count": 70
  },
  {
   "metadata": {
    "ExecuteTime": {
     "end_time": "2025-10-22T03:46:50.523203Z",
     "start_time": "2025-10-22T03:46:50.291318Z"
    }
   },
   "cell_type": "code",
   "source": [
    "import numpy as np\n",
    "from IPython.display import Math\n",
    "from sympy import simplify, latex\n",
    "from matplotlib import pyplot as plt\n",
    "\n",
    "a = 1\n",
    "b = range(-5, 6)\n",
    "c = range(-2, 11)\n",
    "\n",
    "M = np.zeros((len(b), len(c)))\n",
    "\n",
    "for i in range(len(b)):\n",
    "    for j in range(len(c)):\n",
    "        M[i, j] = quadeq(a, b[i], c[j])[0].real.round(2)\n",
    "\n",
    "\n",
    "plt.imshow(M, extent=(c[0], c[-1], b[0], b[-1]))\n",
    "plt.xlabel('c')\n",
    "plt.ylabel('b')\n",
    "plt.colorbar()\n",
    "plt.title('a=' + str(a))\n",
    "plt.show()\n",
    "\n",
    "display(Math(latex(simplify(M))))\n"
   ],
   "id": "41ffd268d63498a8",
   "outputs": [
    {
     "data": {
      "text/plain": [
       "<Figure size 640x480 with 2 Axes>"
      ],
      "image/png": "[encoded data removed]"
     },
     "metadata": {},
     "output_type": "display_data",
     "jetTransient": {
      "display_id": null
     }
    },
    {
     "data": {
      "text/plain": [
       "<IPython.core.display.Math object>"
      ],
      "text/latex": "$\\displaystyle \\left[\\begin{array}{ccccccccccc}5.37 & 5.19 & 5.0 & 4.79 & 4.56 & 4.3 & 4.0 & 3.62 & 3.0 & 2.5 & 2.5 & 2.5 & 2.5\\\\4.45 & 4.24 & 4.0 & 3.73 & 3.41 & 3.0 & 2.0 & 2.0 & 2.0 & 2.0 & 2.0 & 2.0 & 2.0\\\\3.56 & 3.3 & 3.0 & 2.62 & 2.0 & 1.5 & 1.5 & 1.5 & 1.5 & 1.5 & 1.5 & 1.5 & 1.5\\\\2.73 & 2.41 & 2.0 & 1.0 & 1.0 & 1.0 & 1.0 & 1.0 & 1.0 & 1.0 & 1.0 & 1.0 & 1.0\\\\2.0 & 1.62 & 1.0 & 0.5 & 0.5 & 0.5 & 0.5 & 0.5 & 0.5 & 0.5 & 0.5 & 0.5 & 0.5\\\\1.41 & 1.0 & 0.0 & 0.0 & 0.0 & 0.0 & 0.0 & 0.0 & 0.0 & 0.0 & 0.0 & 0.0 & 0.0\\\\1.0 & 0.62 & 0.0 & -0.5 & -0.5 & -0.5 & -0.5 & -0.5 & -0.5 & -0.5 & -0.5 & -0.5 & -0.5\\\\0.73 & 0.41 & 0.0 & -1.0 & -1.0 & -1.0 & -1.0 & -1.0 & -1.0 & -1.0 & -1.0 & -1.0 & -1.0\\\\0.56 & 0.3 & 0.0 & -0.38 & -1.0 & -1.5 & -1.5 & -1.5 & -1.5 & -1.5 & -1.5 & -1.5 & -1.5\\\\0.45 & 0.24 & 0.0 & -0.27 & -0.59 & -1.0 & -2.0 & -2.0 & -2.0 & -2.0 & -2.0 & -2.0 & -2.0\\\\0.37 & 0.19 & 0.0 & -0.21 & -0.44 & -0.7 & -1.0 & -1.38 & -2.0 & -2.5 & -2.5 & -2.5 & -2.5\\end{array}\\right]$"
     },
     "metadata": {},
     "output_type": "display_data",
     "jetTransient": {
      "display_id": null
     }
    }
   ],
   "execution_count": 72
  }
 ],
 "metadata": {
  "kernelspec": {
   "name": "python3",
   "language": "python",
   "display_name": "Python 3 (ipykernel)"
  }
 },
 "nbformat": 4,
 "nbformat_minor": 5
}
