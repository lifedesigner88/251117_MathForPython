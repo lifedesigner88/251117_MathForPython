{
 "cells": [
  {
   "metadata": {
    "ExecuteTime": {
     "end_time": "2025-10-24T06:36:27.532193Z",
     "start_time": "2025-10-24T06:36:27.523862Z"
    }
   },
   "cell_type": "code",
   "source": [
    "from IPython.display import Math\n",
    "from numpy import log\n",
    "\n",
    "a = 3\n",
    "b = 4\n",
    "\n",
    "res1 = log(a*b)\n",
    "res2 = log(a)*log(b)\n",
    "res3 = log(a) + log(b)\n",
    "\n",
    "display(Math(r'ln(%g \\times %g) = %g'%(a, b, res1)))\n",
    "display(Math(r'ln(%g) \\times ln(%g) = %g'%(a, b, res2)))\n",
    "display(Math(r'ln(%g) + ln(%g) = %g'%(a, b, res3)))\n",
    "\n",
    "print()\n",
    "display(Math(r'ln(%g \\times %g) = ln(%g) + ln(%g)'%(a, b, a, b)))\n",
    "display(Math(r'ln(%g \\times %g) \\neq ln(%g) \\times ln(%g)'%(a, b, a, b)))\n",
    "\n"
   ],
   "id": "af0ce401e00b641f",
   "outputs": [
    {
     "data": {
      "text/plain": [
       "<IPython.core.display.Math object>"
      ],
      "text/latex": "$\\displaystyle ln(3 \\times 4) = 2.48491$"
     },
     "metadata": {},
     "output_type": "display_data",
     "jetTransient": {
      "display_id": null
     }
    },
    {
     "data": {
      "text/plain": [
       "<IPython.core.display.Math object>"
      ],
      "text/latex": "$\\displaystyle ln(3) \\times ln(4) = 1.523$"
     },
     "metadata": {},
     "output_type": "display_data",
     "jetTransient": {
      "display_id": null
     }
    },
    {
     "data": {
      "text/plain": [
       "<IPython.core.display.Math object>"
      ],
      "text/latex": "$\\displaystyle ln(3) + ln(4) = 2.48491$"
     },
     "metadata": {},
     "output_type": "display_data",
     "jetTransient": {
      "display_id": null
     }
    },
    {
     "name": "stdout",
     "output_type": "stream",
     "text": [
      "\n"
     ]
    },
    {
     "data": {
      "text/plain": [
       "<IPython.core.display.Math object>"
      ],
      "text/latex": "$\\displaystyle ln(3 \\times 4) = ln(3) + ln(4)$"
     },
     "metadata": {},
     "output_type": "display_data",
     "jetTransient": {
      "display_id": null
     }
    },
    {
     "data": {
      "text/plain": [
       "<IPython.core.display.Math object>"
      ],
      "text/latex": "$\\displaystyle ln(3 \\times 4) \\neq ln(3) \\times ln(4)$"
     },
     "metadata": {},
     "output_type": "display_data",
     "jetTransient": {
      "display_id": null
     }
    }
   ],
   "execution_count": 20
  },
  {
   "metadata": {
    "ExecuteTime": {
     "end_time": "2025-10-24T06:44:24.043838Z",
     "start_time": "2025-10-24T06:44:24.032291Z"
    }
   },
   "cell_type": "code",
   "source": [
    "from IPython.display import Math\n",
    "from numpy import log\n",
    "\n",
    "a = 3\n",
    "b = 4\n",
    "\n",
    "res1 = log(a/b)\n",
    "res2 = log(a)/log(b)\n",
    "res3 = log(a) - log(b)\n",
    "\n",
    "display(Math(r'ln{\\left( \\frac{%g}{%g} \\right)} = %g'%(a, b, res1)))\n",
    "print()\n",
    "\n",
    "display(Math(r'\\frac{ln(%g)}{ln(%g)} = %g'%(a, b, res2)))\n",
    "print()\n",
    "\n",
    "display(Math(r'ln(%g) - ln(%g) = %g'%(a, b, res3)))\n",
    "\n",
    "print()\n",
    "display(Math(r'ln{\\left( \\frac{%g}{%g} \\right)} = ln(%g) - ln(%g)'%(a, b, a, b)))\n",
    "\n",
    "print()\n",
    "display(Math(r'ln{\\left( \\frac{%g}{%g} \\right)} \\neq \\frac{ln(%g)}{ln(%g)}'%(a, b, a, b)))"
   ],
   "id": "8b958d351e833fe4",
   "outputs": [
    {
     "data": {
      "text/plain": [
       "<IPython.core.display.Math object>"
      ],
      "text/latex": "$\\displaystyle ln{\\left( \\frac{3}{4} \\right)} = -0.287682$"
     },
     "metadata": {},
     "output_type": "display_data",
     "jetTransient": {
      "display_id": null
     }
    },
    {
     "name": "stdout",
     "output_type": "stream",
     "text": [
      "\n"
     ]
    },
    {
     "data": {
      "text/plain": [
       "<IPython.core.display.Math object>"
      ],
      "text/latex": "$\\displaystyle \\frac{ln(3)}{ln(4)} = 0.792481$"
     },
     "metadata": {},
     "output_type": "display_data",
     "jetTransient": {
      "display_id": null
     }
    },
    {
     "name": "stdout",
     "output_type": "stream",
     "text": [
      "\n"
     ]
    },
    {
     "data": {
      "text/plain": [
       "<IPython.core.display.Math object>"
      ],
      "text/latex": "$\\displaystyle ln(3) - ln(4) = -0.287682$"
     },
     "metadata": {},
     "output_type": "display_data",
     "jetTransient": {
      "display_id": null
     }
    },
    {
     "name": "stdout",
     "output_type": "stream",
     "text": [
      "\n"
     ]
    },
    {
     "data": {
      "text/plain": [
       "<IPython.core.display.Math object>"
      ],
      "text/latex": "$\\displaystyle ln{\\left( \\frac{3}{4} \\right)} = ln(3) - ln(4)$"
     },
     "metadata": {},
     "output_type": "display_data",
     "jetTransient": {
      "display_id": null
     }
    },
    {
     "name": "stdout",
     "output_type": "stream",
     "text": [
      "\n"
     ]
    },
    {
     "data": {
      "text/plain": [
       "<IPython.core.display.Math object>"
      ],
      "text/latex": "$\\displaystyle ln{\\left( \\frac{3}{4} \\right)} \\neq \\frac{ln(3)}{ln(4)}$"
     },
     "metadata": {},
     "output_type": "display_data",
     "jetTransient": {
      "display_id": null
     }
    }
   ],
   "execution_count": 56
  },
  {
   "metadata": {
    "ExecuteTime": {
     "end_time": "2025-10-24T06:51:45.723183Z",
     "start_time": "2025-10-24T06:51:45.713072Z"
    }
   },
   "cell_type": "code",
   "source": [
    "from IPython.display import Math\n",
    "from numpy import log\n",
    "\n",
    "a = 3\n",
    "b = 4\n",
    "\n",
    "result1 = log(a**b)\n",
    "result2 = b*log(a)\n",
    "\n",
    "display(Math(r'ln{ \\left( %s^{%s} \\right) }  = %g'%(a, b, result1)))\n",
    "display(Math(r'%s ln(%s) = %g'%(a, b, result2)))\n",
    "display(Math(r'ln{ \\left( %s^{%s} \\right) } = %s ln(%s) '%(a, b, b, a)))\n"
   ],
   "id": "bf9f54b095a1c13e",
   "outputs": [
    {
     "data": {
      "text/plain": [
       "<IPython.core.display.Math object>"
      ],
      "text/latex": "$\\displaystyle ln{ \\left( 3^{4} \\right) }  = 4.39445$"
     },
     "metadata": {},
     "output_type": "display_data",
     "jetTransient": {
      "display_id": null
     }
    },
    {
     "data": {
      "text/plain": [
       "<IPython.core.display.Math object>"
      ],
      "text/latex": "$\\displaystyle 3 ln(4) = 4.39445$"
     },
     "metadata": {},
     "output_type": "display_data",
     "jetTransient": {
      "display_id": null
     }
    },
    {
     "data": {
      "text/plain": [
       "<IPython.core.display.Math object>"
      ],
      "text/latex": "$\\displaystyle ln{ \\left( 3^{4} \\right) } = 4 ln(3) $"
     },
     "metadata": {},
     "output_type": "display_data",
     "jetTransient": {
      "display_id": null
     }
    }
   ],
   "execution_count": 74
  }
 ],
 "metadata": {
  "kernelspec": {
   "name": "python3",
   "language": "python",
   "display_name": "Python 3 (ipykernel)"
  }
 },
 "nbformat": 4,
 "nbformat_minor": 5
}
