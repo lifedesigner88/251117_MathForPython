{
 "cells": [
  {
   "metadata": {},
   "cell_type": "markdown",
   "source": [
    "```\n",
    "z = a + bi\n",
    "\n",
    "z = Complex number (복소수)\n",
    "a = Real part (실수 부분)\n",
    "b = Imaginary part (허수 부분)\n",
    "i = Imaginary operator (허수부)\n",
    "\n",
    "```"
   ],
   "id": "faf161965c6e0ea4"
  },
  {
   "metadata": {
    "ExecuteTime": {
     "end_time": "2025-10-22T04:10:21.667022Z",
     "start_time": "2025-10-22T04:10:21.661240Z"
    }
   },
   "cell_type": "code",
   "source": [
    "import numpy as np\n",
    "import sympy as sp\n",
    "\n",
    "print(np.sqrt(-1, dtype=complex)*sp.I)\n",
    "print(1j*1j)\n",
    "print(sp.I*sp.I)\n",
    "\n",
    "real = 4\n",
    "imag = -5\n",
    "\n",
    "cn1 = complex(real, imag)\n",
    "cn2 = real + 1j*imag\n",
    "\n",
    "print(cn1)\n",
    "print(cn2)\n",
    "\n",
    "z1 = complex(4, 5)\n",
    "z2 = complex(3, 2)\n",
    "\n",
    "print(z1 + z2)\n",
    "print(z1.real)\n",
    "print(z1.imag)"
   ],
   "id": "3dee24cebd2b4a9a",
   "outputs": [
    {
     "name": "stdout",
     "output_type": "stream",
     "text": [
      "-1.00000000000000\n",
      "(-1+0j)\n",
      "-1\n",
      "(4-5j)\n",
      "(4-5j)\n",
      "(7+7j)\n",
      "4.0\n",
      "5.0\n"
     ]
    }
   ],
   "execution_count": 22
  },
  {
   "metadata": {
    "ExecuteTime": {
     "end_time": "2025-10-22T04:11:52.423097Z",
     "start_time": "2025-10-22T04:11:52.418865Z"
    }
   },
   "cell_type": "code",
   "source": [
    "w = complex(2, 4)\n",
    "z = complex(5, 6)\n",
    "\n",
    "print(w + z == complex(w.real + z.real, w.imag + z.imag))"
   ],
   "id": "2a6b8f6167693f3e",
   "outputs": [
    {
     "name": "stdout",
     "output_type": "stream",
     "text": [
      "True\n"
     ]
    }
   ],
   "execution_count": 24
  },
  {
   "metadata": {
    "ExecuteTime": {
     "end_time": "2025-10-22T04:30:37.864275Z",
     "start_time": "2025-10-22T04:30:37.859430Z"
    }
   },
   "cell_type": "code",
   "source": [
    "# conjugate = 켤레복소수\n",
    "import sympy as sp\n",
    "\n",
    "w1 = complex(4, 5)\n",
    "w2 = complex(3, 2)\n",
    "\n",
    "print(w1*w2)\n",
    "print((w1*w2).conjugate())\n",
    "print(w1*w1.conjugate() == w1.real**2 + w1.imag**2)\n",
    "print(sp.sympify(w1*w2))"
   ],
   "id": "8d5282682e56bf65",
   "outputs": [
    {
     "name": "stdout",
     "output_type": "stream",
     "text": [
      "(2+23j)\n",
      "(2-23j)\n",
      "True\n",
      "2.0 + 23.0*I\n"
     ]
    }
   ],
   "execution_count": 50
  },
  {
   "metadata": {
    "ExecuteTime": {
     "end_time": "2025-10-22T04:33:10.168392Z",
     "start_time": "2025-10-22T04:33:10.114608Z"
    }
   },
   "cell_type": "code",
   "source": [
    "\n",
    "import sympy as sp\n",
    "from sympy import symbols\n",
    "\n",
    "a, b = symbols('a, b', real=True)\n",
    "\n",
    "z = a + b*sp.I\n",
    "\n",
    "conj = z*z.conjugate()\n",
    "result = a**2 + b**2\n",
    "\n",
    "display(sp.Eq(conj.expand(), result))\n",
    "display(conj)\n",
    "display(conj == result)\n",
    "display(conj.expand())\n",
    "display(conj.expand() == result)\n",
    "display(conj.simplify())\n",
    "display(conj.simplify() == result)"
   ],
   "id": "584f59d452b3fb52",
   "outputs": [
    {
     "data": {
      "text/plain": [
       "True"
      ],
      "text/latex": "$\\displaystyle \\text{True}$"
     },
     "metadata": {},
     "output_type": "display_data",
     "jetTransient": {
      "display_id": null
     }
    },
    {
     "data": {
      "text/plain": [
       "(a - I*b)*(a + I*b)"
      ],
      "text/latex": "$\\displaystyle \\left(a - i b\\right) \\left(a + i b\\right)$"
     },
     "metadata": {},
     "output_type": "display_data",
     "jetTransient": {
      "display_id": null
     }
    },
    {
     "data": {
      "text/plain": [
       "False"
      ]
     },
     "metadata": {},
     "output_type": "display_data",
     "jetTransient": {
      "display_id": null
     }
    },
    {
     "data": {
      "text/plain": [
       "a**2 + b**2"
      ],
      "text/latex": "$\\displaystyle a^{2} + b^{2}$"
     },
     "metadata": {},
     "output_type": "display_data",
     "jetTransient": {
      "display_id": null
     }
    },
    {
     "data": {
      "text/plain": [
       "True"
      ]
     },
     "metadata": {},
     "output_type": "display_data",
     "jetTransient": {
      "display_id": null
     }
    },
    {
     "data": {
      "text/plain": [
       "a**2 + b**2"
      ],
      "text/latex": "$\\displaystyle a^{2} + b^{2}$"
     },
     "metadata": {},
     "output_type": "display_data",
     "jetTransient": {
      "display_id": null
     }
    },
    {
     "data": {
      "text/plain": [
       "True"
      ]
     },
     "metadata": {},
     "output_type": "display_data",
     "jetTransient": {
      "display_id": null
     }
    }
   ],
   "execution_count": 60
  },
  {
   "metadata": {
    "ExecuteTime": {
     "end_time": "2025-10-22T04:51:33.142985Z",
     "start_time": "2025-10-22T04:51:33.129601Z"
    }
   },
   "cell_type": "code",
   "source": [
    "from sympy import symbols, I\n",
    "\n",
    "a, b = symbols('a, b')\n",
    "\n",
    "a = 4 + 2*I\n",
    "b = 2 - 3*I\n",
    "c = a/b\n",
    "\n",
    "display(c.simplify())\n"
   ],
   "id": "a0aa1342fe3c93b3",
   "outputs": [
    {
     "data": {
      "text/plain": [
       "2/13 + 16*I/13"
      ],
      "text/latex": "$\\displaystyle \\frac{2}{13} + \\frac{16 i}{13}$"
     },
     "metadata": {},
     "output_type": "display_data",
     "jetTransient": {
      "display_id": null
     }
    }
   ],
   "execution_count": 75
  },
  {
   "metadata": {
    "ExecuteTime": {
     "end_time": "2025-10-22T05:09:04.753321Z",
     "start_time": "2025-10-22T05:09:04.732093Z"
    }
   },
   "cell_type": "code",
   "source": [
    "from sympy import I, symbols\n",
    "\n",
    "z, w = symbols('z, w')\n",
    "\n",
    "term1 = (z - 1)*(z*w + w)/(w*z - w)\n",
    "term2 = (w - 1)*(1 - w)/(-z*w**2 - w**2 + 2*w*z + 2*w - z - 1)\n",
    "print()\n",
    "display(term1)\n",
    "\n",
    "print()\n",
    "display(term2)\n",
    "\n",
    "print()\n",
    "eq = term1*term2\n",
    "display(eq)\n",
    "\n",
    "print()\n",
    "display(eq.subs({z: 4 + 2*I, w: 3 + 5*I}))\n",
    "print()\n",
    "\n",
    "display(eq.subs({z: 4 + 2*I, w: 3 + 5*I}).expand())\n"
   ],
   "id": "595ff330176af578",
   "outputs": [
    {
     "name": "stdout",
     "output_type": "stream",
     "text": [
      "\n"
     ]
    },
    {
     "data": {
      "text/plain": [
       "(z - 1)*(w*z + w)/(w*z - w)"
      ],
      "text/latex": "$\\displaystyle \\frac{\\left(z - 1\\right) \\left(w z + w\\right)}{w z - w}$"
     },
     "metadata": {},
     "output_type": "display_data",
     "jetTransient": {
      "display_id": null
     }
    },
    {
     "name": "stdout",
     "output_type": "stream",
     "text": [
      "\n"
     ]
    },
    {
     "data": {
      "text/plain": [
       "(1 - w)*(w - 1)/(-w**2*z - w**2 + 2*w*z + 2*w - z - 1)"
      ],
      "text/latex": "$\\displaystyle \\frac{\\left(1 - w\\right) \\left(w - 1\\right)}{- w^{2} z - w^{2} + 2 w z + 2 w - z - 1}$"
     },
     "metadata": {},
     "output_type": "display_data",
     "jetTransient": {
      "display_id": null
     }
    },
    {
     "name": "stdout",
     "output_type": "stream",
     "text": [
      "\n"
     ]
    },
    {
     "data": {
      "text/plain": [
       "(1 - w)*(w - 1)*(z - 1)*(w*z + w)/((w*z - w)*(-w**2*z - w**2 + 2*w*z + 2*w - z - 1))"
      ],
      "text/latex": "$\\displaystyle \\frac{\\left(1 - w\\right) \\left(w - 1\\right) \\left(z - 1\\right) \\left(w z + w\\right)}{\\left(w z - w\\right) \\left(- w^{2} z - w^{2} + 2 w z + 2 w - z - 1\\right)}$"
     },
     "metadata": {},
     "output_type": "display_data",
     "jetTransient": {
      "display_id": null
     }
    },
    {
     "name": "stdout",
     "output_type": "stream",
     "text": [
      "\n"
     ]
    },
    {
     "data": {
      "text/plain": [
       "(-2 - 5*I)*(2 + 5*I)*(3 + 2*I)*(3 + 5*I + (3 + 5*I)*(4 + 2*I))/((-3 - 5*I + (3 + 5*I)*(4 + 2*I))*(1 - (3 + 5*I)**2*(4 + 2*I) - (3 + 5*I)**2 + 8*I + 2*(3 + 5*I)*(4 + 2*I)))"
      ],
      "text/latex": "$\\displaystyle \\frac{\\left(-2 - 5 i\\right) \\left(2 + 5 i\\right) \\left(3 + 2 i\\right) \\left(3 + 5 i + \\left(3 + 5 i\\right) \\left(4 + 2 i\\right)\\right)}{\\left(-3 - 5 i + \\left(3 + 5 i\\right) \\left(4 + 2 i\\right)\\right) \\left(1 - \\left(3 + 5 i\\right)^{2} \\left(4 + 2 i\\right) - \\left(3 + 5 i\\right)^{2} + 8 i + 2 \\left(3 + 5 i\\right) \\left(4 + 2 i\\right)\\right)}$"
     },
     "metadata": {},
     "output_type": "display_data",
     "jetTransient": {
      "display_id": null
     }
    },
    {
     "name": "stdout",
     "output_type": "stream",
     "text": [
      "\n"
     ]
    },
    {
     "data": {
      "text/plain": [
       "1"
      ],
      "text/latex": "$\\displaystyle 1$"
     },
     "metadata": {},
     "output_type": "display_data",
     "jetTransient": {
      "display_id": null
     }
    }
   ],
   "execution_count": 94
  },
  {
   "metadata": {},
   "cell_type": "code",
   "outputs": [],
   "execution_count": null,
   "source": "",
   "id": "21abf34227cf1d16"
  }
 ],
 "metadata": {
  "kernelspec": {
   "name": "python3",
   "language": "python",
   "display_name": "Python 3 (ipykernel)"
  }
 },
 "nbformat": 4,
 "nbformat_minor": 5
}
