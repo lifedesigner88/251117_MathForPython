{
 "cells": [
  {
   "metadata": {
    "ExecuteTime": {
     "end_time": "2025-10-22T00:53:06.332652Z",
     "start_time": "2025-10-22T00:53:06.328884Z"
    }
   },
   "cell_type": "code",
   "source": [
    "# Roots는 해, 근 이라는 뜻이다.\n",
    "# coefficient 는 계수 라는 뜻.\n",
    "\n",
    "import numpy as np\n",
    "from sympy.abc import x\n",
    "\n",
    "coefs = [3, 2, -1]\n",
    "roots = np.roots(coefs)\n",
    "print(roots)"
   ],
   "id": "413f9163d1c3cc4f",
   "outputs": [
    {
     "name": "stdout",
     "output_type": "stream",
     "text": [
      "[-1.          0.33333333]\n"
     ]
    }
   ],
   "execution_count": 4
  },
  {
   "metadata": {
    "ExecuteTime": {
     "end_time": "2025-10-22T01:02:33.039206Z",
     "start_time": "2025-10-22T01:02:33.032629Z"
    }
   },
   "cell_type": "code",
   "source": [
    "from sympy import solve, Poly\n",
    "\n",
    "pn = 3*x**2 + 2*x - 1\n",
    "\n",
    "poly = Poly(pn, x)\n",
    "\n",
    "print(poly.degree(), \"degree\")\n",
    "print(poly.LC(), \"leading coefficients\")\n",
    "\n",
    "for i in roots:\n",
    "    print(pn.subs(x, i))\n",
    "\n",
    "for j in solve(pn, x):\n",
    "    print(pn.subs(x, j))\n"
   ],
   "id": "449b958ae26024b1",
   "outputs": [
    {
     "name": "stdout",
     "output_type": "stream",
     "text": [
      "2 degree\n",
      "3 leading coefficients\n",
      "0\n",
      "-5.55111512312578e-17\n",
      "0\n",
      "0\n"
     ]
    }
   ],
   "execution_count": 18
  },
  {
   "metadata": {
    "ExecuteTime": {
     "end_time": "2025-10-22T01:11:14.175185Z",
     "start_time": "2025-10-22T01:11:14.169625Z"
    }
   },
   "cell_type": "code",
   "source": [
    "\n",
    "import random\n",
    "\n",
    "for i in range(1, 10):\n",
    "    coefs = [random.randint(1,9) for _ in range(i)]\n",
    "    roots = np.roots(coefs)\n",
    "    print(coefs)\n",
    "    print(len(roots))\n",
    "    print(roots)\n"
   ],
   "id": "b685158f19ae4f0f",
   "outputs": [
    {
     "name": "stdout",
     "output_type": "stream",
     "text": [
      "[6]\n",
      "0\n",
      "[]\n",
      "[3, 3]\n",
      "1\n",
      "[-1.]\n",
      "[4, 2, 7]\n",
      "2\n",
      "[-0.25+1.29903811j -0.25-1.29903811j]\n",
      "[6, 9, 7, 8]\n",
      "3\n",
      "[-1.36212449+0.j         -0.06893776+0.98697043j -0.06893776-0.98697043j]\n",
      "[2, 8, 9, 7, 3]\n",
      "4\n",
      "[-2.75651151+0.j         -0.23716186+0.80698874j -0.23716186-0.80698874j\n",
      " -0.76916477+0.j        ]\n",
      "[4, 1, 8, 7, 9, 5]\n",
      "5\n",
      "[ 0.54670928+1.31222474j  0.54670928-1.31222474j -0.36233875+0.93188889j\n",
      " -0.36233875-0.93188889j -0.61874106+0.j        ]\n",
      "[5, 5, 9, 9, 5, 1, 4]\n",
      "6\n",
      "[-0.88085746+0.51424285j -0.88085746-0.51424285j  0.03616237+1.24776162j\n",
      "  0.03616237-1.24776162j  0.34469509+0.61210907j  0.34469509-0.61210907j]\n",
      "[3, 6, 1, 2, 5, 5, 6, 1]\n",
      "7\n",
      "[-1.79664647+0.j          0.78472627+0.76038379j  0.78472627-0.76038379j\n",
      " -1.10934437+0.j         -0.23576809+0.8211219j  -0.23576809-0.8211219j\n",
      " -0.19192552+0.j        ]\n",
      "[6, 3, 5, 1, 9, 2, 7, 2, 3]\n",
      "8\n",
      "[ 0.76138317+0.69303684j  0.76138317-0.69303684j -0.81835361+0.7645738j\n",
      " -0.81835361-0.7645738j   0.17808784+0.80064287j  0.17808784-0.80064287j\n",
      " -0.3711174 +0.64906204j -0.3711174 -0.64906204j]\n"
     ]
    }
   ],
   "execution_count": 71
  }
 ],
 "metadata": {
  "kernelspec": {
   "name": "python3",
   "language": "python",
   "display_name": "Python 3 (ipykernel)"
  }
 },
 "nbformat": 4,
 "nbformat_minor": 5
}
