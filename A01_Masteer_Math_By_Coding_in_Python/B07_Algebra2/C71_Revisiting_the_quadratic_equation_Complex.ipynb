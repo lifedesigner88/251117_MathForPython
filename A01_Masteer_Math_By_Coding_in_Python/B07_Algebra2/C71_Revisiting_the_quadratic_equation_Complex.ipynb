{
 "cells": [
  {
   "metadata": {
    "ExecuteTime": {
     "end_time": "2025-10-23T02:33:57.295616Z",
     "start_time": "2025-10-23T02:33:57.230013Z"
    }
   },
   "cell_type": "code",
   "source": [
    "import numpy as np\n",
    "from matplotlib import pyplot as plt\n",
    "from numpy import emath\n",
    "\n",
    "\n",
    "def quadeq(aa, bb, cc):\n",
    "    out = np.zeros(2, dtype=complex)\n",
    "    out[0] = (-bb + emath.sqrt(bb*bb - 4*aa*cc))/(2*aa)\n",
    "    out[1] = (-bb - emath.sqrt(bb*bb - 4*aa*cc))/(2*aa)\n",
    "    return out\n",
    "\n",
    "\n",
    "a = 1\n",
    "b = range(-5, 6)\n",
    "c = range(-2, 11)\n",
    "\n",
    "M = np.zeros((len(b), len(c)), dtype=complex)\n",
    "for i in range(len(b)):\n",
    "    for j in range(len(c)):\n",
    "        M[i, j] = quadeq(a, b[i], c[j])[0]\n",
    "\n",
    "plt.subplot(1, 3, 1)\n",
    "plt.imshow(np.real(M), extent=(c[0], c[-1], b[0], b[-1]))\n",
    "plt.axis('off')\n",
    "plt.title('real part')\n",
    "\n",
    "plt.subplot(1, 3, 2)\n",
    "plt.imshow(np.imag(M), extent=(c[0], c[-1], b[0], b[-1]))\n",
    "plt.axis('off')\n",
    "plt.title('imag part')\n",
    "\n",
    "plt.subplot(1, 3, 3)\n",
    "plt.imshow(np.absolute(M), extent=(c[0], c[-1], b[0], b[-1]))\n",
    "plt.axis('off')\n",
    "plt.title('distance')\n",
    "\n",
    "plt.show()\n"
   ],
   "id": "fad84f9e0b114a0d",
   "outputs": [
    {
     "data": {
      "text/plain": [
       "<Figure size 640x480 with 3 Axes>"
      ],
      "image/png": "[encoded data removed]"
     },
     "metadata": {},
     "output_type": "display_data",
     "jetTransient": {
      "display_id": null
     }
    }
   ],
   "execution_count": 2
  }
 ],
 "metadata": {
  "kernelspec": {
   "name": "python3",
   "language": "python",
   "display_name": "Python 3 (ipykernel)"
  }
 },
 "nbformat": 4,
 "nbformat_minor": 5
}
