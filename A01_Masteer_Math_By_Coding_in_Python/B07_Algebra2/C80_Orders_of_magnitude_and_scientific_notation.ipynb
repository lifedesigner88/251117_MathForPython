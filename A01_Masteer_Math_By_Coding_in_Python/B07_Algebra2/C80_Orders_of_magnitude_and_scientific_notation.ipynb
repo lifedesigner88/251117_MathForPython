{
 "cells": [
  {
   "metadata": {
    "ExecuteTime": {
     "end_time": "2025-10-25T03:40:10.930510Z",
     "start_time": "2025-10-25T03:40:10.926463Z"
    }
   },
   "cell_type": "code",
   "source": [
    "x = 1129831823\n",
    "\n",
    "print(format(x, 'e'))\n",
    "print(f'{x:e}')\n",
    "\n",
    "print(format(x, ','))\n",
    "print(f'{x:,}')\n",
    "\n",
    "print('%e'%x)\n",
    "\n",
    "print(format(x, 'e')[-2:])"
   ],
   "id": "5d77e68bbb850b26",
   "outputs": [
    {
     "name": "stdout",
     "output_type": "stream",
     "text": [
      "1.129832e+09\n",
      "1.129832e+09\n",
      "1,129,831,823\n",
      "1,129,831,823\n",
      "1.129832e+09\n",
      "09\n"
     ]
    }
   ],
   "execution_count": 22
  },
  {
   "metadata": {
    "ExecuteTime": {
     "end_time": "2025-10-25T04:00:40.455172Z",
     "start_time": "2025-10-25T04:00:40.449103Z"
    }
   },
   "cell_type": "code",
   "source": [
    "from IPython.display import display, Math\n",
    "\n",
    "\n",
    "def exercise(num):\n",
    "    enum = format(num, 'e')\n",
    "    num_index = enum.find('.')\n",
    "    index = enum.find('e')\n",
    "    power_num = int(enum[index + 1:])\n",
    "\n",
    "    display(Math(\n",
    "        r' \\text{ %s  is %s orders of magnitude,}\\approx %s \\times 10 ^{%s}' \\\n",
    "        %(num, power_num, enum[:num_index], power_num)\n",
    "    ))\n",
    "\n",
    "\n",
    "exercise(-2342)"
   ],
   "id": "6a1f90ba0adffc37",
   "outputs": [
    {
     "data": {
      "text/plain": [
       "<IPython.core.display.Math object>"
      ],
      "text/latex": "$\\displaystyle  \\text{ -2342  is 3 orders of magnitude,}\\approx -2 \\times 10 ^{3}$"
     },
     "metadata": {},
     "output_type": "display_data",
     "jetTransient": {
      "display_id": null
     }
    }
   ],
   "execution_count": 78
  }
 ],
 "metadata": {
  "kernelspec": {
   "name": "python3",
   "language": "python",
   "display_name": "Python 3 (ipykernel)"
  }
 },
 "nbformat": 4,
 "nbformat_minor": 5
}
