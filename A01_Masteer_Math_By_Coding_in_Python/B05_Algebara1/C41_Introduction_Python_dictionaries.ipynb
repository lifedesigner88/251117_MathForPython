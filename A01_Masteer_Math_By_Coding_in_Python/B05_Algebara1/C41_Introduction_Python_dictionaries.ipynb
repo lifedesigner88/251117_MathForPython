{
 "cells": [
  {
   "metadata": {
    "ExecuteTime": {
     "end_time": "2025-10-17T07:51:23.519671Z",
     "start_time": "2025-10-17T07:51:23.511793Z"
    }
   },
   "cell_type": "code",
   "source": [
    "D = dict(fruit=[\"banana\", \"pizza\"], color=\"red\")\n",
    "print(D)\n",
    "\n",
    "print(D.keys())\n",
    "\n",
    "print(D['fruit'][0])"
   ],
   "id": "ad1d2e1d8dc60d6",
   "outputs": [
    {
     "name": "stdout",
     "output_type": "stream",
     "text": [
      "{'fruit': ['banana', 'pizza'], 'color': 'red'}\n",
      "dict_keys(['fruit', 'color'])\n",
      "banana\n"
     ]
    }
   ],
   "execution_count": 5
  },
  {
   "metadata": {
    "ExecuteTime": {
     "end_time": "2025-10-18T02:41:48.685515Z",
     "start_time": "2025-10-18T02:41:48.334802Z"
    }
   },
   "cell_type": "code",
   "source": [
    "from sympy.abc import x, y\n",
    "from sympy import sin, solve, latex\n",
    "from IPython.display import Math\n",
    "\n",
    "problem = dict(forx=[4*x - 6, x**2 - 9], fory=[sin(y)])\n",
    "\n",
    "for i in problem:\n",
    "    if i == \"forx\":\n",
    "        print(\"Equations solving for X:\")\n",
    "        target = x\n",
    "    else:\n",
    "        print(\"Equations solving for Y:\")\n",
    "        target = y\n",
    "    eqList = problem.get(i)\n",
    "    for eq in eqList:\n",
    "        display(Math(r'\\quad \\quad %s=0 \\quad \\Rightarrow \\quad X = %s' %(latex(eq), latex(solve(eq,target)))))\n"
   ],
   "id": "4ab05369795aa8d0",
   "outputs": [
    {
     "name": "stdout",
     "output_type": "stream",
     "text": [
      "Equations solving for X:\n"
     ]
    },
    {
     "data": {
      "text/plain": [
       "<IPython.core.display.Math object>"
      ],
      "text/latex": "$\\displaystyle \\quad \\quad 4 x - 6=0 \\quad \\Rightarrow \\quad X = \\left[ \\frac{3}{2}\\right]$"
     },
     "metadata": {},
     "output_type": "display_data",
     "jetTransient": {
      "display_id": null
     }
    },
    {
     "data": {
      "text/plain": [
       "<IPython.core.display.Math object>"
      ],
      "text/latex": "$\\displaystyle \\quad \\quad x^{2} - 9=0 \\quad \\Rightarrow \\quad X = \\left[ -3, \\  3\\right]$"
     },
     "metadata": {},
     "output_type": "display_data",
     "jetTransient": {
      "display_id": null
     }
    },
    {
     "name": "stdout",
     "output_type": "stream",
     "text": [
      "Equations solving for Y:\n"
     ]
    },
    {
     "data": {
      "text/plain": [
       "<IPython.core.display.Math object>"
      ],
      "text/latex": "$\\displaystyle \\quad \\quad \\sin{\\left(y \\right)}=0 \\quad \\Rightarrow \\quad X = \\left[ 0, \\  \\pi\\right]$"
     },
     "metadata": {},
     "output_type": "display_data",
     "jetTransient": {
      "display_id": null
     }
    }
   ],
   "execution_count": 33
  }
 ],
 "metadata": {
  "kernelspec": {
   "name": "python3",
   "language": "python",
   "display_name": "Python 3 (ipykernel)"
  }
 },
 "nbformat": 4,
 "nbformat_minor": 5
}
