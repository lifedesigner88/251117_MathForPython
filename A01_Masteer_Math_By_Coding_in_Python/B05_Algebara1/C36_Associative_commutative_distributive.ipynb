{
 "cells": [
  {
   "metadata": {
    "ExecuteTime": {
     "end_time": "2025-10-17T05:46:32.976363Z",
     "start_time": "2025-10-17T05:46:32.973237Z"
    }
   },
   "cell_type": "code",
   "source": [
    "# 결합볍칙, 교환법칙, 분배법칙\n",
    "\n",
    "\n",
    "from sympy.abc import x, y, z, a, b, c, d, w\n"
   ],
   "id": "b9724c14cbce08de",
   "outputs": [],
   "execution_count": 45
  },
  {
   "metadata": {
    "ExecuteTime": {
     "end_time": "2025-10-17T05:46:33.010225Z",
     "start_time": "2025-10-17T05:46:33.003727Z"
    }
   },
   "cell_type": "code",
   "source": [
    "# Associative\n",
    "\n",
    "exp1 = x*(4*y)\n",
    "exp2 = (x*4)*y\n",
    "\n",
    "display(exp1 - exp2)"
   ],
   "id": "ce4aca30f47f0e1",
   "outputs": [
    {
     "data": {
      "text/plain": [
       "0"
      ],
      "text/latex": "$\\displaystyle 0$"
     },
     "metadata": {},
     "output_type": "display_data",
     "jetTransient": {
      "display_id": null
     }
    }
   ],
   "execution_count": 46
  },
  {
   "metadata": {
    "ExecuteTime": {
     "end_time": "2025-10-17T05:46:33.045685Z",
     "start_time": "2025-10-17T05:46:33.035743Z"
    }
   },
   "cell_type": "code",
   "source": [
    "# Commutative\n",
    "\n",
    "e1 = 4*x*y\n",
    "e2 = x*4*y\n",
    "e3 = x*y*4\n",
    "\n",
    "display(e1.subs({x: 1, y: 2}))\n",
    "display(e2.subs({x: 1, y: 2}))\n",
    "display(e3.subs({x: 1, y: 2}))\n"
   ],
   "id": "3664e2166c8ebc98",
   "outputs": [
    {
     "data": {
      "text/plain": [
       "8"
      ],
      "text/latex": "$\\displaystyle 8$"
     },
     "metadata": {},
     "output_type": "display_data",
     "jetTransient": {
      "display_id": null
     }
    },
    {
     "data": {
      "text/plain": [
       "8"
      ],
      "text/latex": "$\\displaystyle 8$"
     },
     "metadata": {},
     "output_type": "display_data",
     "jetTransient": {
      "display_id": null
     }
    },
    {
     "data": {
      "text/plain": [
       "8"
      ],
      "text/latex": "$\\displaystyle 8$"
     },
     "metadata": {},
     "output_type": "display_data",
     "jetTransient": {
      "display_id": null
     }
    }
   ],
   "execution_count": 47
  },
  {
   "metadata": {
    "ExecuteTime": {
     "end_time": "2025-10-17T05:46:33.097374Z",
     "start_time": "2025-10-17T05:46:33.081529Z"
    }
   },
   "cell_type": "code",
   "source": [
    "# Distributive\n",
    "\n",
    "expr = (a + b)*(c + d)\n",
    "expr1 = expr.expand()\n",
    "\n",
    "display(expr)\n",
    "display(expr1)\n",
    "\n",
    "display(expr.subs({a: 1, b: 2, c: 3, d: 4}))\n",
    "display(expr1.subs({a: 1, b: 2, c: 3, d: 4}))"
   ],
   "id": "fce62bcb870ca64d",
   "outputs": [
    {
     "data": {
      "text/plain": [
       "(a + b)*(c + d)"
      ],
      "text/latex": "$\\displaystyle \\left(a + b\\right) \\left(c + d\\right)$"
     },
     "metadata": {},
     "output_type": "display_data",
     "jetTransient": {
      "display_id": null
     }
    },
    {
     "data": {
      "text/plain": [
       "a*c + a*d + b*c + b*d"
      ],
      "text/latex": "$\\displaystyle a c + a d + b c + b d$"
     },
     "metadata": {},
     "output_type": "display_data",
     "jetTransient": {
      "display_id": null
     }
    },
    {
     "data": {
      "text/plain": [
       "21"
      ],
      "text/latex": "$\\displaystyle 21$"
     },
     "metadata": {},
     "output_type": "display_data",
     "jetTransient": {
      "display_id": null
     }
    },
    {
     "data": {
      "text/plain": [
       "21"
      ],
      "text/latex": "$\\displaystyle 21$"
     },
     "metadata": {},
     "output_type": "display_data",
     "jetTransient": {
      "display_id": null
     }
    }
   ],
   "execution_count": 48
  },
  {
   "metadata": {
    "ExecuteTime": {
     "end_time": "2025-10-17T05:50:32.304956Z",
     "start_time": "2025-10-17T05:50:32.127775Z"
    }
   },
   "cell_type": "code",
   "source": [
    "\n",
    "x = w*(4 - w) + (1/w**2)*(1 + w)\n",
    "f_1 = x*(y + z)\n",
    "f_2 = 3/x + x**2\n",
    "\n",
    "display(x, f_1, f_2)\n",
    "\n",
    "display((f_1*f_2))\n",
    "display((f_1*f_2).simplify())\n",
    "\n"
   ],
   "id": "50d5bb2cc7162b92",
   "outputs": [
    {
     "data": {
      "text/plain": [
       "w*(4 - w) + (w + 1)/w**2"
      ],
      "text/latex": "$\\displaystyle w \\left(4 - w\\right) + \\frac{w + 1}{w^{2}}$"
     },
     "metadata": {},
     "output_type": "display_data",
     "jetTransient": {
      "display_id": null
     }
    },
    {
     "data": {
      "text/plain": [
       "(y + z)*(w*(4 - w) + (w + 1)/w**2)"
      ],
      "text/latex": "$\\displaystyle \\left(y + z\\right) \\left(w \\left(4 - w\\right) + \\frac{w + 1}{w^{2}}\\right)$"
     },
     "metadata": {},
     "output_type": "display_data",
     "jetTransient": {
      "display_id": null
     }
    },
    {
     "data": {
      "text/plain": [
       "(w*(4 - w) + (w + 1)/w**2)**2 + 3/(w*(4 - w) + (w + 1)/w**2)"
      ],
      "text/latex": "$\\displaystyle \\left(w \\left(4 - w\\right) + \\frac{w + 1}{w^{2}}\\right)^{2} + \\frac{3}{w \\left(4 - w\\right) + \\frac{w + 1}{w^{2}}}$"
     },
     "metadata": {},
     "output_type": "display_data",
     "jetTransient": {
      "display_id": null
     }
    },
    {
     "data": {
      "text/plain": [
       "(y + z)*(w*(4 - w) + (w + 1)/w**2)*((w*(4 - w) + (w + 1)/w**2)**2 + 3/(w*(4 - w) + (w + 1)/w**2))"
      ],
      "text/latex": "$\\displaystyle \\left(y + z\\right) \\left(w \\left(4 - w\\right) + \\frac{w + 1}{w^{2}}\\right) \\left(\\left(w \\left(4 - w\\right) + \\frac{w + 1}{w^{2}}\\right)^{2} + \\frac{3}{w \\left(4 - w\\right) + \\frac{w + 1}{w^{2}}}\\right)$"
     },
     "metadata": {},
     "output_type": "display_data",
     "jetTransient": {
      "display_id": null
     }
    },
    {
     "data": {
      "text/plain": [
       "(3*w**6 + (-w**3*(w - 4) + w + 1)**3)*(y + z)/w**6"
      ],
      "text/latex": "$\\displaystyle \\frac{\\left(3 w^{6} + \\left(- w^{3} \\left(w - 4\\right) + w + 1\\right)^{3}\\right) \\left(y + z\\right)}{w^{6}}$"
     },
     "metadata": {},
     "output_type": "display_data",
     "jetTransient": {
      "display_id": null
     }
    }
   ],
   "execution_count": 63
  }
 ],
 "metadata": {
  "kernelspec": {
   "name": "python3",
   "language": "python",
   "display_name": "Python 3 (ipykernel)"
  }
 },
 "nbformat": 4,
 "nbformat_minor": 5
}
