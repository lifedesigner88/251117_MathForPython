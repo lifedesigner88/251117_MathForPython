{
 "cells": [
  {
   "metadata": {},
   "cell_type": "code",
   "outputs": [],
   "execution_count": null,
   "source": "",
   "id": "a63e31d39e28df85"
  }
 ],
 "metadata": {},
 "nbformat": 4,
 "nbformat_minor": 5
}
