{
 "cells": [
  {
   "metadata": {
    "ExecuteTime": {
     "end_time": "2025-10-17T04:29:52.634106Z",
     "start_time": "2025-10-17T04:29:52.626154Z"
    }
   },
   "cell_type": "code",
   "source": [
    "import sympy as sym\n",
    "from sympy.abc import x, y\n",
    "\n",
    "eq = x*(x + 1)\n",
    "\n",
    "print(type(eq))\n",
    "\n",
    "display(eq)\n",
    "display(eq.expand())\n",
    "\n",
    "\n"
   ],
   "id": "a63e31d39e28df85",
   "outputs": [
    {
     "name": "stdout",
     "output_type": "stream",
     "text": [
      "<class 'sympy.core.mul.Mul'>\n"
     ]
    },
    {
     "data": {
      "text/plain": [
       "x*(x + 1)"
      ],
      "text/latex": "$\\displaystyle x \\left(x + 1\\right)$"
     },
     "metadata": {},
     "output_type": "display_data",
     "jetTransient": {
      "display_id": null
     }
    },
    {
     "data": {
      "text/plain": [
       "x**2 + x"
      ],
      "text/latex": "$\\displaystyle x^{2} + x$"
     },
     "metadata": {},
     "output_type": "display_data",
     "jetTransient": {
      "display_id": null
     }
    }
   ],
   "execution_count": 20
  },
  {
   "metadata": {
    "ExecuteTime": {
     "end_time": "2025-10-17T04:25:07.335550Z",
     "start_time": "2025-10-17T04:25:07.326095Z"
    }
   },
   "cell_type": "code",
   "source": [
    "term1 = x - 7\n",
    "term2 = 2*x + 3\n",
    "\n",
    "eq2 = term1*term2\n",
    "display(eq2)\n",
    "display(eq2.expand())\n",
    "\n"
   ],
   "id": "7ea6074fc3854241",
   "outputs": [
    {
     "data": {
      "text/plain": [
       "(x - 7)*(2*x + 3)"
      ],
      "text/latex": "$\\displaystyle \\left(x - 7\\right) \\left(2 x + 3\\right)$"
     },
     "metadata": {},
     "output_type": "display_data",
     "jetTransient": {
      "display_id": null
     }
    },
    {
     "data": {
      "text/plain": [
       "2*x**2 - 11*x - 21"
      ],
      "text/latex": "$\\displaystyle 2 x^{2} - 11 x - 21$"
     },
     "metadata": {},
     "output_type": "display_data",
     "jetTransient": {
      "display_id": null
     }
    }
   ],
   "execution_count": 16
  },
  {
   "metadata": {
    "ExecuteTime": {
     "end_time": "2025-10-17T04:31:38.073292Z",
     "start_time": "2025-10-17T04:31:38.066081Z"
    }
   },
   "cell_type": "code",
   "source": [
    "expr = x*(2*y**2 - 5**x/x)\n",
    "\n",
    "display(expr)\n",
    "display(expr.expand())"
   ],
   "id": "e8bc2973c6f460bb",
   "outputs": [
    {
     "data": {
      "text/plain": [
       "x*(-5**x/x + 2*y**2)"
      ],
      "text/latex": "$\\displaystyle x \\left(- \\frac{5^{x}}{x} + 2 y^{2}\\right)$"
     },
     "metadata": {},
     "output_type": "display_data",
     "jetTransient": {
      "display_id": null
     }
    },
    {
     "data": {
      "text/plain": [
       "-5**x + 2*x*y**2"
      ],
      "text/latex": "$\\displaystyle - 5^{x} + 2 x y^{2}$"
     },
     "metadata": {},
     "output_type": "display_data",
     "jetTransient": {
      "display_id": null
     }
    }
   ],
   "execution_count": 25
  },
  {
   "metadata": {
    "ExecuteTime": {
     "end_time": "2025-10-17T04:35:07.892981Z",
     "start_time": "2025-10-17T04:35:07.885914Z"
    }
   },
   "cell_type": "code",
   "source": [
    "\n",
    "eq4 = (4 + x)*(2 - y)\n",
    "\n",
    "display(eq4)\n",
    "\n",
    "for i in range(0, 3):\n",
    "    for j in range(0, 3):\n",
    "        print(eq4.subs({x: i, y: j}))\n",
    "\n",
    "\n",
    "\n"
   ],
   "id": "badc66191a914163",
   "outputs": [
    {
     "data": {
      "text/plain": [
       "(2 - y)*(x + 4)"
      ],
      "text/latex": "$\\displaystyle \\left(2 - y\\right) \\left(x + 4\\right)$"
     },
     "metadata": {},
     "output_type": "display_data",
     "jetTransient": {
      "display_id": null
     }
    },
    {
     "name": "stdout",
     "output_type": "stream",
     "text": [
      "8\n",
      "4\n",
      "0\n",
      "10\n",
      "5\n",
      "0\n",
      "12\n",
      "6\n",
      "0\n"
     ]
    }
   ],
   "execution_count": 33
  },
  {
   "metadata": {
    "ExecuteTime": {
     "end_time": "2025-10-17T04:29:54.507441Z",
     "start_time": "2025-10-17T04:29:54.503503Z"
    }
   },
   "cell_type": "code",
   "source": "%whos",
   "id": "529cb79eb388700b",
   "outputs": [
    {
     "name": "stdout",
     "output_type": "stream",
     "text": [
      "Variable   Type      Data/Info\n",
      "------------------------------\n",
      "Math       type      <class 'IPython.core.display.Math'>\n",
      "eq         Mul       x*(x + 1)\n",
      "eq2        Mul       (x - 7)*(2*x + 3)\n",
      "sym        module    <module 'sympy' from 'C:\\<...>ges\\\\sympy\\\\__init__.py'>\n",
      "term1      Add       x - 7\n",
      "term2      Add       2*x + 3\n",
      "x          Symbol    x\n",
      "y          Symbol    y\n"
     ]
    }
   ],
   "execution_count": 21
  }
 ],
 "metadata": {
  "kernelspec": {
   "name": "python3",
   "language": "python",
   "display_name": "Python 3 (ipykernel)"
  }
 },
 "nbformat": 4,
 "nbformat_minor": 5
}
