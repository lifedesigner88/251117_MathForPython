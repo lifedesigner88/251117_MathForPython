{
 "cells": [
  {
   "metadata": {
    "ExecuteTime": {
     "end_time": "2025-10-18T03:16:43.173491Z",
     "start_time": "2025-10-18T03:16:43.152182Z"
    }
   },
   "cell_type": "code",
   "source": [
    "from sympy import factorint, isprime\n",
    "\n",
    "number = 105\n",
    "\n",
    "print(isprime(number))\n",
    "fact_dict = factorint(number)\n",
    "\n",
    "display(fact_dict)\n",
    "\n",
    "eq2 = 1\n",
    "for i in fact_dict:\n",
    "    eq1 = i**fact_dict[i]\n",
    "    eq2 = eq2 * eq1\n",
    "\n",
    "print(fact_dict.keys())\n",
    "print(eq2)"
   ],
   "id": "565ec26d9f07079a",
   "outputs": [
    {
     "name": "stdout",
     "output_type": "stream",
     "text": [
      "False\n"
     ]
    },
    {
     "data": {
      "text/plain": [
       "{3: 1, 5: 1, 7: 1}"
      ]
     },
     "metadata": {},
     "output_type": "display_data",
     "jetTransient": {
      "display_id": null
     }
    },
    {
     "name": "stdout",
     "output_type": "stream",
     "text": [
      "dict_keys([3, 5, 7])\n",
      "105\n"
     ]
    }
   ],
   "execution_count": 47
  },
  {
   "metadata": {
    "ExecuteTime": {
     "end_time": "2025-10-18T03:14:15.386841Z",
     "start_time": "2025-10-18T03:14:15.362507Z"
    }
   },
   "cell_type": "code",
   "source": [
    "def generate_primes(count):\n",
    "    \"\"\"\n",
    "    주어진 개수만큼의 소수를 생성하여 리스트로 반환합니다.\n",
    "\n",
    "    Args:\n",
    "        count (int): 생성할 소수의 개수.\n",
    "\n",
    "    Returns:\n",
    "        list: 생성된 소수들의 리스트.\n",
    "    \"\"\"\n",
    "    primes = []\n",
    "    num = 2  # 소수는 2부터 시작합니다.\n",
    "\n",
    "    while len(primes) < count:\n",
    "        # 현재 숫자가 소수인지 확인\n",
    "        is_current_num_prime = True\n",
    "        if num < 2:\n",
    "            is_current_num_prime = False\n",
    "        else:\n",
    "            # 2부터 현재 숫자의 제곱근까지 나누어 떨어지는지 확인\n",
    "            for i in range(2, int(num**0.5) + 1):\n",
    "                if num % i == 0:\n",
    "                    is_current_num_prime = False\n",
    "                    break\n",
    "\n",
    "        if is_current_num_prime:\n",
    "            primes.append(num)\n",
    "\n",
    "        num += 1 # 다음 숫자로 이동\n",
    "\n",
    "    return primes\n",
    "\n",
    "# 100개의 소수를 출력하는 예시\n",
    "first_100_primes = generate_primes(100)\n",
    "print(first_100_primes)\n",
    "# 첫 100개의 소수 중 마지막 소수 확인 (예: 541)\n",
    "print(f\"The 100th prime number is: {first_100_primes[-1]}\")"
   ],
   "id": "43f030fc9ef82c52",
   "outputs": [
    {
     "name": "stdout",
     "output_type": "stream",
     "text": [
      "[2, 3, 5, 7, 11, 13, 17, 19, 23, 29, 31, 37, 41, 43, 47, 53, 59, 61, 67, 71, 73, 79, 83, 89, 97, 101, 103, 107, 109, 113, 127, 131, 137, 139, 149, 151, 157, 163, 167, 173, 179, 181, 191, 193, 197, 199, 211, 223, 227, 229, 233, 239, 241, 251, 257, 263, 269, 271, 277, 281, 283, 293, 307, 311, 313, 317, 331, 337, 347, 349, 353, 359, 367, 373, 379, 383, 389, 397, 401, 409, 419, 421, 431, 433, 439, 443, 449, 457, 461, 463, 467, 479, 487, 491, 499, 503, 509, 521, 523, 541]\n",
      "The 100th prime number is: 541\n"
     ]
    }
   ],
   "execution_count": 32
  },
  {
   "metadata": {
    "ExecuteTime": {
     "end_time": "2025-10-18T03:31:13.787737Z",
     "start_time": "2025-10-18T03:31:13.773639Z"
    }
   },
   "cell_type": "code",
   "source": [
    "for num in range(2,51):\n",
    "    factor = factorint(num)\n",
    "    if len(factor) == 1 and factor.get(list(factor.keys())[0]) == 1:\n",
    "        print(f'{num} is prime number')\n",
    "    else:\n",
    "        print(f'{num} is composite number with prime factors {list(factor.keys())}')\n"
   ],
   "id": "d20915b7795368ae",
   "outputs": [
    {
     "name": "stdout",
     "output_type": "stream",
     "text": [
      "2 is prime number\n",
      "3 is prime number\n",
      "4 is composite number with prime factors [2]\n",
      "5 is prime number\n",
      "6 is composite number with prime factors [2, 3]\n",
      "7 is prime number\n",
      "8 is composite number with prime factors [2]\n",
      "9 is composite number with prime factors [3]\n",
      "10 is composite number with prime factors [2, 5]\n",
      "11 is prime number\n",
      "12 is composite number with prime factors [2, 3]\n",
      "13 is prime number\n",
      "14 is composite number with prime factors [2, 7]\n",
      "15 is composite number with prime factors [3, 5]\n",
      "16 is composite number with prime factors [2]\n",
      "17 is prime number\n",
      "18 is composite number with prime factors [2, 3]\n",
      "19 is prime number\n",
      "20 is composite number with prime factors [2, 5]\n",
      "21 is composite number with prime factors [3, 7]\n",
      "22 is composite number with prime factors [2, 11]\n",
      "23 is prime number\n",
      "24 is composite number with prime factors [2, 3]\n",
      "25 is composite number with prime factors [5]\n",
      "26 is composite number with prime factors [2, 13]\n",
      "27 is composite number with prime factors [3]\n",
      "28 is composite number with prime factors [2, 7]\n",
      "29 is prime number\n",
      "30 is composite number with prime factors [2, 3, 5]\n",
      "31 is prime number\n",
      "32 is composite number with prime factors [2]\n",
      "33 is composite number with prime factors [3, 11]\n",
      "34 is composite number with prime factors [2, 17]\n",
      "35 is composite number with prime factors [5, 7]\n",
      "36 is composite number with prime factors [2, 3]\n",
      "37 is prime number\n",
      "38 is composite number with prime factors [2, 19]\n",
      "39 is composite number with prime factors [3, 13]\n",
      "40 is composite number with prime factors [2, 5]\n",
      "41 is prime number\n",
      "42 is composite number with prime factors [2, 3, 7]\n",
      "43 is prime number\n",
      "44 is composite number with prime factors [2, 11]\n",
      "45 is composite number with prime factors [3, 5]\n",
      "46 is composite number with prime factors [2, 23]\n",
      "47 is prime number\n",
      "48 is composite number with prime factors [2, 3]\n",
      "49 is composite number with prime factors [7]\n",
      "50 is composite number with prime factors [2, 5]\n"
     ]
    }
   ],
   "execution_count": 63
  }
 ],
 "metadata": {
  "kernelspec": {
   "name": "python3",
   "language": "python",
   "display_name": "Python 3 (ipykernel)"
  }
 },
 "nbformat": 4,
 "nbformat_minor": 5
}
