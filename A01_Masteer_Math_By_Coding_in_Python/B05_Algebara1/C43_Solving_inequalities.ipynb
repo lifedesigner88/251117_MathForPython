{
 "cells": [
  {
   "metadata": {
    "ExecuteTime": {
     "end_time": "2025-10-18T03:58:02.611849Z",
     "start_time": "2025-10-18T03:58:02.586739Z"
    }
   },
   "cell_type": "code",
   "source": [
    "from sympy import symbols, solve, oo\n",
    "\n",
    "x = symbols('x')\n",
    "\n",
    "display(oo > 3238409283904823094)\n",
    "\n",
    "expr = 4*x > 8\n",
    "\n",
    "display(expr)\n",
    "display(solve(expr, x))\n",
    "\n",
    "expr1 = (x - 1)*(x + 3) > 0\n",
    "\n",
    "display(expr1)\n",
    "display(solve(expr1, x))\n",
    "\n"
   ],
   "id": "83f36acb34836e6",
   "outputs": [
    {
     "data": {
      "text/plain": [
       "True"
      ],
      "text/latex": "$\\displaystyle \\text{True}$"
     },
     "metadata": {},
     "output_type": "display_data",
     "jetTransient": {
      "display_id": null
     }
    },
    {
     "data": {
      "text/plain": [
       "4*x > 8"
      ],
      "text/latex": "$\\displaystyle 4 x > 8$"
     },
     "metadata": {},
     "output_type": "display_data",
     "jetTransient": {
      "display_id": null
     }
    },
    {
     "data": {
      "text/plain": [
       "(2 < x) & (x < oo)"
      ],
      "text/latex": "$\\displaystyle 2 < x \\wedge x < \\infty$"
     },
     "metadata": {},
     "output_type": "display_data",
     "jetTransient": {
      "display_id": null
     }
    },
    {
     "data": {
      "text/plain": [
       "(x - 1)*(x + 3) > 0"
      ],
      "text/latex": "$\\displaystyle \\left(x - 1\\right) \\left(x + 3\\right) > 0$"
     },
     "metadata": {},
     "output_type": "display_data",
     "jetTransient": {
      "display_id": null
     }
    },
    {
     "data": {
      "text/plain": [
       "((-oo < x) & (x < -3)) | ((1 < x) & (x < oo))"
      ],
      "text/latex": "$\\displaystyle \\left(-\\infty < x \\wedge x < -3\\right) \\vee \\left(1 < x \\wedge x < \\infty\\right)$"
     },
     "metadata": {},
     "output_type": "display_data",
     "jetTransient": {
      "display_id": null
     }
    }
   ],
   "execution_count": 8
  },
  {
   "metadata": {
    "ExecuteTime": {
     "end_time": "2025-10-18T04:05:41.821151Z",
     "start_time": "2025-10-18T04:05:41.806660Z"
    }
   },
   "cell_type": "code",
   "source": [
    "from IPython.display import Math\n",
    "\n",
    "term1 = 3*x/2 + (4 - 5*x)/3\n",
    "term2 = 2 - 5*(2 - x)/4\n",
    "\n",
    "eq = term1 <= term2\n",
    "\n",
    "display(eq)\n",
    "\n",
    "display(solve(eq, x))"
   ],
   "id": "3436a9ffd91bb4fb",
   "outputs": [
    {
     "data": {
      "text/plain": [
       "4/3 - x/6 <= 5*x/4 - 1/2"
      ],
      "text/latex": "$\\displaystyle \\frac{4}{3} - \\frac{x}{6} \\leq \\frac{5 x}{4} - \\frac{1}{2}$"
     },
     "metadata": {},
     "output_type": "display_data",
     "jetTransient": {
      "display_id": null
     }
    },
    {
     "data": {
      "text/plain": [
       "(22/17 <= x) & (x < oo)"
      ],
      "text/latex": "$\\displaystyle \\frac{22}{17} \\leq x \\wedge x < \\infty$"
     },
     "metadata": {},
     "output_type": "display_data",
     "jetTransient": {
      "display_id": null
     }
    }
   ],
   "execution_count": 11
  }
 ],
 "metadata": {
  "kernelspec": {
   "name": "python3",
   "language": "python",
   "display_name": "Python 3 (ipykernel)"
  }
 },
 "nbformat": 4,
 "nbformat_minor": 5
}
