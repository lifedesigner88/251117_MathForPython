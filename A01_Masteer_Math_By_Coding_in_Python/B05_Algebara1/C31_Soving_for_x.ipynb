{
 "cells": [
  {
   "cell_type": "code",
   "id": "initial_id",
   "metadata": {
    "collapsed": true,
    "ExecuteTime": {
     "end_time": "2025-10-18T02:27:16.286664Z",
     "start_time": "2025-10-18T02:27:15.772991Z"
    }
   },
   "source": [
    "import sympy as sym\n",
    "from IPython.display import display, Math\n",
    "\n",
    "x = sym.symbols('x')\n",
    "expr = 2*x + 4 - 9\n",
    "sym.solve(expr)\n",
    "\n",
    "\n",
    "display(Math(r\"\\text{The solution of } %s \\text{ is x =} %g\" %(sym.latex(expr), sym.solve(expr)[0])))\n",
    "\n",
    "expr2 = x**2 - 4\n",
    "sol = sym.solve(expr2)\n",
    "\n",
    "display(expr2)\n",
    "display(sol)\n",
    "\n",
    "for i in sol: print(i)\n",
    "\n",
    "\n"
   ],
   "outputs": [
    {
     "data": {
      "text/plain": [
       "<IPython.core.display.Math object>"
      ],
      "text/latex": "$\\displaystyle \\text{The solution of } 2 x - 5 \\text{ is x =} 2.5$"
     },
     "metadata": {},
     "output_type": "display_data",
     "jetTransient": {
      "display_id": null
     }
    },
    {
     "data": {
      "text/plain": [
       "x**2 - 4"
      ],
      "text/latex": "$\\displaystyle x^{2} - 4$"
     },
     "metadata": {},
     "output_type": "display_data",
     "jetTransient": {
      "display_id": null
     }
    },
    {
     "data": {
      "text/plain": [
       "[-2, 2]"
      ]
     },
     "metadata": {},
     "output_type": "display_data",
     "jetTransient": {
      "display_id": null
     }
    },
    {
     "name": "stdout",
     "output_type": "stream",
     "text": [
      "-2\n",
      "2\n"
     ]
    }
   ],
   "execution_count": 1
  },
  {
   "metadata": {
    "ExecuteTime": {
     "end_time": "2025-10-18T02:27:16.642169Z",
     "start_time": "2025-10-18T02:27:16.447749Z"
    }
   },
   "cell_type": "code",
   "source": [
    "expr3 = x**2 + x + 1\n",
    "sol2 = sym.solve(expr3)\n",
    "display(expr3)\n",
    "display(Math(sym.latex(sol2)))"
   ],
   "id": "18b712c9666eb3c",
   "outputs": [
    {
     "data": {
      "text/plain": [
       "x**2 + x + 1"
      ],
      "text/latex": "$\\displaystyle x^{2} + x + 1$"
     },
     "metadata": {},
     "output_type": "display_data",
     "jetTransient": {
      "display_id": null
     }
    },
    {
     "data": {
      "text/plain": [
       "<IPython.core.display.Math object>"
      ],
      "text/latex": "$\\displaystyle \\left[ - \\frac{1}{2} - \\frac{\\sqrt{3} i}{2}, \\  - \\frac{1}{2} + \\frac{\\sqrt{3} i}{2}\\right]$"
     },
     "metadata": {},
     "output_type": "display_data",
     "jetTransient": {
      "display_id": null
     }
    }
   ],
   "execution_count": 2
  },
  {
   "metadata": {
    "ExecuteTime": {
     "end_time": "2025-10-18T02:27:16.716252Z",
     "start_time": "2025-10-18T02:27:16.661526Z"
    }
   },
   "cell_type": "code",
   "source": [
    "y = sym.symbols('y')\n",
    "expr = x/4 - x*y + 5\n",
    "\n",
    "sol1 = sym.solve(expr, x)\n",
    "sol2 = sym.solve(expr, y)\n",
    "\n",
    "def printsym (latex : list):\n",
    "    display(Math(sym.latex(latex)))\n",
    "\n",
    "display(expr)\n",
    "printsym(sol1)\n",
    "printsym(sol2)"
   ],
   "id": "bfb4f0acefd85698",
   "outputs": [
    {
     "data": {
      "text/plain": [
       "-x*y + x/4 + 5"
      ],
      "text/latex": "$\\displaystyle - x y + \\frac{x}{4} + 5$"
     },
     "metadata": {},
     "output_type": "display_data",
     "jetTransient": {
      "display_id": null
     }
    },
    {
     "data": {
      "text/plain": [
       "<IPython.core.display.Math object>"
      ],
      "text/latex": "$\\displaystyle \\left[ \\frac{20}{4 y - 1}\\right]$"
     },
     "metadata": {},
     "output_type": "display_data",
     "jetTransient": {
      "display_id": null
     }
    },
    {
     "data": {
      "text/plain": [
       "<IPython.core.display.Math object>"
      ],
      "text/latex": "$\\displaystyle \\left[ \\frac{x + 20}{4 x}\\right]$"
     },
     "metadata": {},
     "output_type": "display_data",
     "jetTransient": {
      "display_id": null
     }
    }
   ],
   "execution_count": 3
  },
  {
   "metadata": {
    "ExecuteTime": {
     "end_time": "2025-10-18T02:27:16.750099Z",
     "start_time": "2025-10-18T02:27:16.746833Z"
    }
   },
   "cell_type": "code",
   "source": "",
   "id": "40ecca328cd24f14",
   "outputs": [],
   "execution_count": null
  }
 ],
 "metadata": {
  "kernelspec": {
   "display_name": "Python 3",
   "language": "python",
   "name": "python3"
  },
  "language_info": {
   "codemirror_mode": {
    "name": "ipython",
    "version": 2
   },
   "file_extension": ".py",
   "mimetype": "text/x-python",
   "name": "python",
   "nbconvert_exporter": "python",
   "pygments_lexer": "ipython2",
   "version": "2.7.6"
  }
 },
 "nbformat": 4,
 "nbformat_minor": 5
}
