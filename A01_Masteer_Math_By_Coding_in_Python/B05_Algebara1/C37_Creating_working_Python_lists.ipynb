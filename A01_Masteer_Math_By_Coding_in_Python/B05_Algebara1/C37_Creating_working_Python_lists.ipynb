{
 "cells": [
  {
   "metadata": {
    "ExecuteTime": {
     "end_time": "2025-10-17T06:00:41.395655Z",
     "start_time": "2025-10-17T06:00:41.391954Z"
    }
   },
   "cell_type": "code",
   "source": [
    "lst = [1, 2, 3, 4, 5, 6, 7, 8, 9, 10, 11, 12, 13, 14, 15]\n",
    "index = [0, 1, 2, 3, 4, 5, 6, 7, 8, 9, 10, 11, 12, 13, 14]\n",
    "\n",
    "print(lst)\n",
    "print(index)\n",
    "\n",
    "print(lst[:5])\n",
    "print(lst[5:])\n",
    "print(lst[:-5])\n",
    "print(lst[-5:])\n",
    "print(lst[3:7])"
   ],
   "id": "d506c420c1e586ff",
   "outputs": [
    {
     "name": "stdout",
     "output_type": "stream",
     "text": [
      "[1, 2, 3, 4, 5, 6, 7, 8, 9, 10, 11, 12, 13, 14, 15]\n",
      "[0, 1, 2, 3, 4, 5, 6, 7, 8, 9, 10, 11, 12, 13, 14]\n",
      "[1, 2, 3, 4, 5]\n",
      "[6, 7, 8, 9, 10, 11, 12, 13, 14, 15]\n",
      "[1, 2, 3, 4, 5, 6, 7, 8, 9, 10]\n",
      "[11, 12, 13, 14, 15]\n",
      "[4, 5, 6, 7]\n"
     ]
    }
   ],
   "execution_count": 13
  },
  {
   "metadata": {
    "ExecuteTime": {
     "end_time": "2025-10-17T06:16:41.893934Z",
     "start_time": "2025-10-17T06:16:41.861125Z"
    }
   },
   "cell_type": "code",
   "source": [
    "from IPython.core.display import Math\n",
    "import sympy as sym\n",
    "\n",
    "x = sym.symbols('x')\n",
    "\n",
    "e1 = 2*x + x*(4 - 6*x) + x\n",
    "e2 = -x*(2/x + 4/x**2) + (4 + x)/(4*x)\n",
    "e3 = (x + 3)*(x - 3)*x*(1/(9*x))\n",
    "\n",
    "list1 = [e1, e2, e3]\n",
    "\n",
    "for e in list1:\n",
    "    print(\"\")\n",
    "    display(Math(sym.latex(e) + r\" \\quad \\Longleftrightarrow \\quad\" + sym.latex(e.simplify().expand())))\n",
    "\n"
   ],
   "id": "b6d0ad10c7dffb23",
   "outputs": [
    {
     "name": "stdout",
     "output_type": "stream",
     "text": [
      "\n"
     ]
    },
    {
     "data": {
      "text/plain": [
       "<IPython.core.display.Math object>"
      ],
      "text/latex": "$\\displaystyle x \\left(4 - 6 x\\right) + 3 x \\quad \\Longleftrightarrow \\quad- 6 x^{2} + 7 x$"
     },
     "metadata": {},
     "output_type": "display_data",
     "jetTransient": {
      "display_id": null
     }
    },
    {
     "name": "stdout",
     "output_type": "stream",
     "text": [
      "\n"
     ]
    },
    {
     "data": {
      "text/plain": [
       "<IPython.core.display.Math object>"
      ],
      "text/latex": "$\\displaystyle - x \\left(\\frac{2}{x} + \\frac{4}{x^{2}}\\right) + \\frac{x + 4}{4 x} \\quad \\Longleftrightarrow \\quad- \\frac{7}{4} - \\frac{3}{x}$"
     },
     "metadata": {},
     "output_type": "display_data",
     "jetTransient": {
      "display_id": null
     }
    },
    {
     "name": "stdout",
     "output_type": "stream",
     "text": [
      "\n"
     ]
    },
    {
     "data": {
      "text/plain": [
       "<IPython.core.display.Math object>"
      ],
      "text/latex": "$\\displaystyle \\frac{\\left(x - 3\\right) \\left(x + 3\\right)}{9} \\quad \\Longleftrightarrow \\quad\\frac{x^{2}}{9} - 1$"
     },
     "metadata": {},
     "output_type": "display_data",
     "jetTransient": {
      "display_id": null
     }
    }
   ],
   "execution_count": 40
  },
  {
   "metadata": {
    "ExecuteTime": {
     "end_time": "2025-10-17T06:24:31.634319Z",
     "start_time": "2025-10-17T06:24:31.619013Z"
    }
   },
   "cell_type": "code",
   "source": [
    "\n",
    "vec = list(range(10, 40))\n",
    "\n",
    "print(vec)\n",
    "print(vec[0:len(vec) - 1:2])\n",
    "print(vec[0:-1:2])\n",
    "print(vec[::2])\n",
    "print(vec[::-1])\n"
   ],
   "id": "b8673a98669c6634",
   "outputs": [
    {
     "name": "stdout",
     "output_type": "stream",
     "text": [
      "[10, 11, 12, 13, 14, 15, 16, 17, 18, 19, 20, 21, 22, 23, 24, 25, 26, 27, 28, 29, 30, 31, 32, 33, 34, 35, 36, 37, 38, 39]\n",
      "[10, 12, 14, 16, 18, 20, 22, 24, 26, 28, 30, 32, 34, 36, 38]\n",
      "[10, 12, 14, 16, 18, 20, 22, 24, 26, 28, 30, 32, 34, 36, 38]\n",
      "[10, 12, 14, 16, 18, 20, 22, 24, 26, 28, 30, 32, 34, 36, 38]\n",
      "[39, 38, 37, 36, 35, 34, 33, 32, 31, 30, 29, 28, 27, 26, 25, 24, 23, 22, 21, 20, 19, 18, 17, 16, 15, 14, 13, 12, 11, 10]\n"
     ]
    }
   ],
   "execution_count": 52
  }
 ],
 "metadata": {
  "kernelspec": {
   "name": "python3",
   "language": "python",
   "display_name": "Python 3 (ipykernel)"
  }
 },
 "nbformat": 4,
 "nbformat_minor": 5
}
