{
 "cells": [
  {
   "metadata": {
    "ExecuteTime": {
     "end_time": "2025-10-17T04:55:41.064539Z",
     "start_time": "2025-10-17T04:55:41.061693Z"
    }
   },
   "cell_type": "code",
   "source": [
    "import sympy as sym\n",
    "import numpy as np"
   ],
   "id": "1cbc35412705577d",
   "outputs": [],
   "execution_count": 13
  },
  {
   "metadata": {
    "ExecuteTime": {
     "end_time": "2025-10-17T04:55:41.093233Z",
     "start_time": "2025-10-17T04:55:41.086683Z"
    }
   },
   "cell_type": "code",
   "source": [
    "A = np.array([\n",
    "    [1, 2],\n",
    "    [3, 4]\n",
    "])\n",
    "\n",
    "B = sym.Matrix([\n",
    "    [1, 2],\n",
    "    [3, 4]\n",
    "])\n",
    "\n",
    "display(sym.Matrix(A))\n",
    "display(B)\n"
   ],
   "id": "29df2a31e7292d69",
   "outputs": [
    {
     "data": {
      "text/plain": [
       "Matrix([\n",
       "[1, 2],\n",
       "[3, 4]])"
      ],
      "text/latex": "$\\displaystyle \\left[\\begin{matrix}1 & 2\\\\3 & 4\\end{matrix}\\right]$"
     },
     "metadata": {},
     "output_type": "display_data",
     "jetTransient": {
      "display_id": null
     }
    },
    {
     "data": {
      "text/plain": [
       "Matrix([\n",
       "[1, 2],\n",
       "[3, 4]])"
      ],
      "text/latex": "$\\displaystyle \\left[\\begin{matrix}1 & 2\\\\3 & 4\\end{matrix}\\right]$"
     },
     "metadata": {},
     "output_type": "display_data",
     "jetTransient": {
      "display_id": null
     }
    }
   ],
   "execution_count": 14
  },
  {
   "metadata": {
    "ExecuteTime": {
     "end_time": "2025-10-17T04:59:56.195132Z",
     "start_time": "2025-10-17T04:59:56.186477Z"
    }
   },
   "cell_type": "code",
   "source": [
    "c = np.zeros([6, 6])\n",
    "d = sym.zeros(6, 6)\n",
    "\n",
    "c[1, 3] = 2\n",
    "d[1, 4] = 2\n",
    "\n",
    "display(sym.Matrix(c))\n",
    "display(d)\n",
    "\n",
    "for i in range(6):\n",
    "    for j in range(6):\n",
    "        d[i, j] = (-1)**(i + j)\n",
    "\n",
    "display(d)\n"
   ],
   "id": "b62a3fefb543e0d8",
   "outputs": [
    {
     "data": {
      "text/plain": [
       "Matrix([\n",
       "[0.0, 0.0, 0.0, 0.0, 0.0, 0.0],\n",
       "[0.0, 0.0, 0.0, 2.0, 0.0, 0.0],\n",
       "[0.0, 0.0, 0.0, 0.0, 0.0, 0.0],\n",
       "[0.0, 0.0, 0.0, 0.0, 0.0, 0.0],\n",
       "[0.0, 0.0, 0.0, 0.0, 0.0, 0.0],\n",
       "[0.0, 0.0, 0.0, 0.0, 0.0, 0.0]])"
      ],
      "text/latex": "$\\displaystyle \\left[\\begin{matrix}0.0 & 0.0 & 0.0 & 0.0 & 0.0 & 0.0\\\\0.0 & 0.0 & 0.0 & 2.0 & 0.0 & 0.0\\\\0.0 & 0.0 & 0.0 & 0.0 & 0.0 & 0.0\\\\0.0 & 0.0 & 0.0 & 0.0 & 0.0 & 0.0\\\\0.0 & 0.0 & 0.0 & 0.0 & 0.0 & 0.0\\\\0.0 & 0.0 & 0.0 & 0.0 & 0.0 & 0.0\\end{matrix}\\right]$"
     },
     "metadata": {},
     "output_type": "display_data",
     "jetTransient": {
      "display_id": null
     }
    },
    {
     "data": {
      "text/plain": [
       "Matrix([\n",
       "[0, 0, 0, 0, 0, 0],\n",
       "[0, 0, 0, 0, 2, 0],\n",
       "[0, 0, 0, 0, 0, 0],\n",
       "[0, 0, 0, 0, 0, 0],\n",
       "[0, 0, 0, 0, 0, 0],\n",
       "[0, 0, 0, 0, 0, 0]])"
      ],
      "text/latex": "$\\displaystyle \\left[\\begin{matrix}0 & 0 & 0 & 0 & 0 & 0\\\\0 & 0 & 0 & 0 & 2 & 0\\\\0 & 0 & 0 & 0 & 0 & 0\\\\0 & 0 & 0 & 0 & 0 & 0\\\\0 & 0 & 0 & 0 & 0 & 0\\\\0 & 0 & 0 & 0 & 0 & 0\\end{matrix}\\right]$"
     },
     "metadata": {},
     "output_type": "display_data",
     "jetTransient": {
      "display_id": null
     }
    },
    {
     "data": {
      "text/plain": [
       "Matrix([\n",
       "[ 1, -1,  1, -1,  1, -1],\n",
       "[-1,  1, -1,  1, -1,  1],\n",
       "[ 1, -1,  1, -1,  1, -1],\n",
       "[-1,  1, -1,  1, -1,  1],\n",
       "[ 1, -1,  1, -1,  1, -1],\n",
       "[-1,  1, -1,  1, -1,  1]])"
      ],
      "text/latex": "$\\displaystyle \\left[\\begin{matrix}1 & -1 & 1 & -1 & 1 & -1\\\\-1 & 1 & -1 & 1 & -1 & 1\\\\1 & -1 & 1 & -1 & 1 & -1\\\\-1 & 1 & -1 & 1 & -1 & 1\\\\1 & -1 & 1 & -1 & 1 & -1\\\\-1 & 1 & -1 & 1 & -1 & 1\\end{matrix}\\right]$"
     },
     "metadata": {},
     "output_type": "display_data",
     "jetTransient": {
      "display_id": null
     }
    }
   ],
   "execution_count": 21
  },
  {
   "metadata": {
    "ExecuteTime": {
     "end_time": "2025-10-17T05:03:36.797193Z",
     "start_time": "2025-10-17T05:03:36.792247Z"
    }
   },
   "cell_type": "code",
   "source": [
    "from sympy.abc import x, y\n",
    "\n",
    "eq = (4 + x)*(2 - y)\n",
    "\n",
    "E = sym.zeros(3, 3)\n",
    "\n",
    "for i in range(3):\n",
    "    for j in range(3):\n",
    "        E[i, j] = eq.subs({x: i, y: j})\n",
    "\n",
    "display(E)"
   ],
   "id": "bc230d52a88a5663",
   "outputs": [
    {
     "data": {
      "text/plain": [
       "Matrix([\n",
       "[ 8, 4, 0],\n",
       "[10, 5, 0],\n",
       "[12, 6, 0]])"
      ],
      "text/latex": "$\\displaystyle \\left[\\begin{matrix}8 & 4 & 0\\\\10 & 5 & 0\\\\12 & 6 & 0\\end{matrix}\\right]$"
     },
     "metadata": {},
     "output_type": "display_data",
     "jetTransient": {
      "display_id": null
     }
    }
   ],
   "execution_count": 32
  }
 ],
 "metadata": {
  "kernelspec": {
   "name": "python3",
   "language": "python",
   "display_name": "Python 3 (ipykernel)"
  }
 },
 "nbformat": 4,
 "nbformat_minor": 5
}
