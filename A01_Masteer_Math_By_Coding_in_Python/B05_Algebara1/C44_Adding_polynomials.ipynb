{
 "cells": [
  {
   "metadata": {
    "ExecuteTime": {
     "end_time": "2025-10-18T05:09:14.109847Z",
     "start_time": "2025-10-18T05:09:14.099261Z"
    }
   },
   "cell_type": "code",
   "source": [
    "# Poly\n",
    "\n",
    "from sympy import symbols, Poly, latex, solve\n",
    "from IPython.display import Math\n",
    "\n",
    "x = symbols('x')\n",
    "y = symbols('y')\n",
    "\n",
    "p1 = Poly(2*x**3 + x**2 - x)\n",
    "\n",
    "display(p1)\n",
    "\n",
    "display(p1.eval(1))\n",
    "\n",
    "print(p1.degree(), \"degree\")\n",
    "display(p1.coeffs())\n",
    "\n",
    "# coefficients = 계수\n",
    "# degree = 차수\n",
    "display(Math(latex(solve(p1))))"
   ],
   "id": "bcf14a647fba3a0c",
   "outputs": [
    {
     "data": {
      "text/plain": [
       "Poly(2*x**3 + x**2 - x, x, domain='ZZ')"
      ],
      "text/latex": "$\\displaystyle \\operatorname{Poly}{\\left( 2 x^{3} + x^{2} - x, x, domain=\\mathbb{Z} \\right)}$"
     },
     "metadata": {},
     "output_type": "display_data",
     "jetTransient": {
      "display_id": null
     }
    },
    {
     "data": {
      "text/plain": [
       "2"
      ],
      "text/latex": "$\\displaystyle 2$"
     },
     "metadata": {},
     "output_type": "display_data",
     "jetTransient": {
      "display_id": null
     }
    },
    {
     "data": {
      "text/plain": [
       "[2, 1, -1]"
      ]
     },
     "metadata": {},
     "output_type": "display_data",
     "jetTransient": {
      "display_id": null
     }
    },
    {
     "name": "stdout",
     "output_type": "stream",
     "text": [
      "3 degree\n"
     ]
    },
    {
     "data": {
      "text/plain": [
       "<IPython.core.display.Math object>"
      ],
      "text/latex": "$\\displaystyle \\left[ -1, \\  0, \\  \\frac{1}{2}\\right]$"
     },
     "metadata": {},
     "output_type": "display_data",
     "jetTransient": {
      "display_id": null
     }
    }
   ],
   "execution_count": 42
  },
  {
   "metadata": {
    "ExecuteTime": {
     "end_time": "2025-10-18T05:17:26.103930Z",
     "start_time": "2025-10-18T05:17:26.092579Z"
    }
   },
   "cell_type": "code",
   "source": [
    "eqs = [x**2 + 2*x, -x**3 + 4*x, x**5 - x**4 + x/4 + 4]\n",
    "\n",
    "for eq in eqs:\n",
    "    poly = Poly(eq)\n",
    "    display(eq)\n",
    "    if poly.degree()%2 == 0:\n",
    "        display(sum(poly.coeffs()))\n",
    "    else:\n",
    "        # 홀수\n",
    "        display(len(poly.coeffs()))"
   ],
   "id": "a0ca987b1e59c8a2",
   "outputs": [
    {
     "data": {
      "text/plain": [
       "x**2 + 2*x"
      ],
      "text/latex": "$\\displaystyle x^{2} + 2 x$"
     },
     "metadata": {},
     "output_type": "display_data",
     "jetTransient": {
      "display_id": null
     }
    },
    {
     "data": {
      "text/plain": [
       "3"
      ],
      "text/latex": "$\\displaystyle 3$"
     },
     "metadata": {},
     "output_type": "display_data",
     "jetTransient": {
      "display_id": null
     }
    },
    {
     "data": {
      "text/plain": [
       "-x**3 + 4*x"
      ],
      "text/latex": "$\\displaystyle - x^{3} + 4 x$"
     },
     "metadata": {},
     "output_type": "display_data",
     "jetTransient": {
      "display_id": null
     }
    },
    {
     "data": {
      "text/plain": [
       "2"
      ]
     },
     "metadata": {},
     "output_type": "display_data",
     "jetTransient": {
      "display_id": null
     }
    },
    {
     "data": {
      "text/plain": [
       "x**5 - x**4 + x/4 + 4"
      ],
      "text/latex": "$\\displaystyle x^{5} - x^{4} + \\frac{x}{4} + 4$"
     },
     "metadata": {},
     "output_type": "display_data",
     "jetTransient": {
      "display_id": null
     }
    },
    {
     "data": {
      "text/plain": [
       "4"
      ]
     },
     "metadata": {},
     "output_type": "display_data",
     "jetTransient": {
      "display_id": null
     }
    }
   ],
   "execution_count": 51
  },
  {
   "metadata": {
    "ExecuteTime": {
     "end_time": "2025-10-18T05:22:19.922608Z",
     "start_time": "2025-10-18T05:22:19.908854Z"
    }
   },
   "cell_type": "code",
   "source": [
    "# Multiplying\n",
    "\n",
    "p1 = 4*x**2 - 2*x\n",
    "p2 = x**3 - 1\n",
    "\n",
    "display(p1, p2)\n",
    "\n",
    "eq3 = p1*p2\n",
    "\n",
    "display(eq3)\n",
    "display(eq3.expand())"
   ],
   "id": "3514e637e5cc9fd9",
   "outputs": [
    {
     "data": {
      "text/plain": [
       "4*x**2 - 2*x"
      ],
      "text/latex": "$\\displaystyle 4 x^{2} - 2 x$"
     },
     "metadata": {},
     "output_type": "display_data",
     "jetTransient": {
      "display_id": null
     }
    },
    {
     "data": {
      "text/plain": [
       "x**3 - 1"
      ],
      "text/latex": "$\\displaystyle x^{3} - 1$"
     },
     "metadata": {},
     "output_type": "display_data",
     "jetTransient": {
      "display_id": null
     }
    },
    {
     "data": {
      "text/plain": [
       "(4*x**2 - 2*x)*(x**3 - 1)"
      ],
      "text/latex": "$\\displaystyle \\left(4 x^{2} - 2 x\\right) \\left(x^{3} - 1\\right)$"
     },
     "metadata": {},
     "output_type": "display_data",
     "jetTransient": {
      "display_id": null
     }
    },
    {
     "data": {
      "text/plain": [
       "4*x**5 - 2*x**4 - 4*x**2 + 2*x"
      ],
      "text/latex": "$\\displaystyle 4 x^{5} - 2 x^{4} - 4 x^{2} + 2 x$"
     },
     "metadata": {},
     "output_type": "display_data",
     "jetTransient": {
      "display_id": null
     }
    }
   ],
   "execution_count": 54
  },
  {
   "metadata": {
    "ExecuteTime": {
     "end_time": "2025-10-18T05:33:26.737967Z",
     "start_time": "2025-10-18T05:33:26.727350Z"
    }
   },
   "cell_type": "code",
   "source": [
    "x, y = symbols(\"x, y\")\n",
    "\n",
    "f = 4*x**4 - 3*x**2 + x*y**2 - 9*y**3\n",
    "g = -x**3 + 6*x**2*y + .8*y**3\n",
    "\n",
    "display(f, g)\n",
    "\n",
    "fg = (f*g).subs({x: 5, y: -2})\n",
    "display(fg)\n",
    "display(f.subs({x: 5, y: -2})*g.subs({x: 5, y: -2}))\n",
    "\n"
   ],
   "id": "315a40c7bc5bf3d5",
   "outputs": [
    {
     "data": {
      "text/plain": [
       "4*x**4 - 3*x**2 + x*y**2 - 9*y**3"
      ],
      "text/latex": "$\\displaystyle 4 x^{4} - 3 x^{2} + x y^{2} - 9 y^{3}$"
     },
     "metadata": {},
     "output_type": "display_data",
     "jetTransient": {
      "display_id": null
     }
    },
    {
     "data": {
      "text/plain": [
       "-x**3 + 6*x**2*y + 0.8*y**3"
      ],
      "text/latex": "$\\displaystyle - x^{3} + 6 x^{2} y + 0.8 y^{3}$"
     },
     "metadata": {},
     "output_type": "display_data",
     "jetTransient": {
      "display_id": null
     }
    },
    {
     "data": {
      "text/plain": [
       "-1085833.80000000"
      ],
      "text/latex": "$\\displaystyle -1085833.8$"
     },
     "metadata": {},
     "output_type": "display_data",
     "jetTransient": {
      "display_id": null
     }
    },
    {
     "data": {
      "text/plain": [
       "-1085833.80000000"
      ],
      "text/latex": "$\\displaystyle -1085833.8$"
     },
     "metadata": {},
     "output_type": "display_data",
     "jetTransient": {
      "display_id": null
     }
    }
   ],
   "execution_count": 70
  },
  {
   "metadata": {
    "ExecuteTime": {
     "end_time": "2025-10-18T05:39:27.759022Z",
     "start_time": "2025-10-18T05:39:27.737811Z"
    }
   },
   "cell_type": "code",
   "source": [
    "# Dividing\n",
    "\n",
    "p1 = 4*x**5 - x\n",
    "p2 = 2*x**3 - x\n",
    "\n",
    "display(p1/p2)\n",
    "\n",
    "display((p1/p2).simplify())\n",
    "\n",
    "div = (p1/p2).simplify()\n",
    "\n",
    "display((div*p2).expand())"
   ],
   "id": "b53db3cd7116c2a6",
   "outputs": [
    {
     "data": {
      "text/plain": [
       "(4*x**5 - x)/(2*x**3 - x)"
      ],
      "text/latex": "$\\displaystyle \\frac{4 x^{5} - x}{2 x^{3} - x}$"
     },
     "metadata": {},
     "output_type": "display_data",
     "jetTransient": {
      "display_id": null
     }
    },
    {
     "data": {
      "text/plain": [
       "2*x**2 + 1"
      ],
      "text/latex": "$\\displaystyle 2 x^{2} + 1$"
     },
     "metadata": {},
     "output_type": "display_data",
     "jetTransient": {
      "display_id": null
     }
    },
    {
     "data": {
      "text/plain": [
       "4*x**5 - x"
      ],
      "text/latex": "$\\displaystyle 4 x^{5} - x$"
     },
     "metadata": {},
     "output_type": "display_data",
     "jetTransient": {
      "display_id": null
     }
    }
   ],
   "execution_count": 77
  },
  {
   "metadata": {
    "ExecuteTime": {
     "end_time": "2025-10-18T05:54:24.795922Z",
     "start_time": "2025-10-18T05:54:24.696813Z"
    }
   },
   "cell_type": "code",
   "source": [
    "from sympy import fraction\n",
    "\n",
    "eq2 = (x**6 + 2*x**4 + 6*x - y)/(x**3 + 3)\n",
    "display(eq2)\n",
    "\n",
    "for i in range(5, 16):\n",
    "    result = eq2.subs({y: i}).simplify()\n",
    "    if fraction(result)[1] == 1:\n",
    "        print(i)\n",
    "\n"
   ],
   "id": "f79f49b02f8e12c2",
   "outputs": [
    {
     "data": {
      "text/plain": [
       "(x**6 + 2*x**4 + 6*x - y)/(x**3 + 3)"
      ],
      "text/latex": "$\\displaystyle \\frac{x^{6} + 2 x^{4} + 6 x - y}{x^{3} + 3}$"
     },
     "metadata": {},
     "output_type": "display_data",
     "jetTransient": {
      "display_id": null
     }
    },
    {
     "name": "stdout",
     "output_type": "stream",
     "text": [
      "9\n"
     ]
    }
   ],
   "execution_count": 95
  },
  {
   "metadata": {
    "ExecuteTime": {
     "end_time": "2025-10-18T05:51:01.910293Z",
     "start_time": "2025-10-18T05:51:01.896378Z"
    }
   },
   "cell_type": "code",
   "source": [
    "from sympy import symbols, div, Poly\n",
    "\n",
    "x, y = symbols('x y')\n",
    "\n",
    "numerator = Poly(x**6 + 2*x**4 + 6*x - y, x)\n",
    "denominator = Poly(x**3 + 3, x)\n",
    "\n",
    "quotient, remainder = div(numerator, denominator)\n",
    "\n",
    "display(quotient.as_expr())\n",
    "display(remainder.as_expr())\n"
   ],
   "id": "c014d7233e42e126",
   "outputs": [
    {
     "data": {
      "text/plain": [
       "x**3 + 2*x - 3"
      ],
      "text/latex": "$\\displaystyle x^{3} + 2 x - 3$"
     },
     "metadata": {},
     "output_type": "display_data",
     "jetTransient": {
      "display_id": null
     }
    },
    {
     "data": {
      "text/plain": [
       "9 - y"
      ],
      "text/latex": "$\\displaystyle 9 - y$"
     },
     "metadata": {},
     "output_type": "display_data",
     "jetTransient": {
      "display_id": null
     }
    }
   ],
   "execution_count": 93
  }
 ],
 "metadata": {
  "kernelspec": {
   "name": "python3",
   "language": "python",
   "display_name": "Python 3 (ipykernel)"
  }
 },
 "nbformat": 4,
 "nbformat_minor": 5
}
