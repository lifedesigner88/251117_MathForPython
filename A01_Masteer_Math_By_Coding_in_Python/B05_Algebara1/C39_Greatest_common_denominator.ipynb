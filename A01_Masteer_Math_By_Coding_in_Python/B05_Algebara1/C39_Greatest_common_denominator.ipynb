{
 "cells": [
  {
   "metadata": {
    "ExecuteTime": {
     "end_time": "2025-10-17T07:31:30.042178Z",
     "start_time": "2025-10-17T07:31:29.640334Z"
    }
   },
   "cell_type": "code",
   "source": [
    "import math\n",
    "\n",
    "from IPython.core.display import Math\n",
    "from sympy import Eq\n",
    "\n",
    "a = 16\n",
    "b = 88\n",
    "\n",
    "fact = math.gcd(a, b)\n",
    "\n",
    "display(Math(r'\\frac{%g}{%g} = \\frac{%g \\times %g }{%g \\times %g}'%(a, b, a/fact, fact, b/fact, fact)))\n",
    "display(\n",
    "    Math(rf'\\frac{{  {a}  }}{{  {b}  }} = \\frac{{  {a//fact}   \\times   {fact}   }}{{  {b//fact} \\times {fact}  }}'))\n"
   ],
   "id": "79c4cd5ae9c4366c",
   "outputs": [
    {
     "data": {
      "text/plain": [
       "<IPython.core.display.Math object>"
      ],
      "text/latex": "$\\displaystyle \\frac{16}{88} = \\frac{2 \\times 8 }{11 \\times 8}$"
     },
     "metadata": {},
     "output_type": "display_data",
     "jetTransient": {
      "display_id": null
     }
    },
    {
     "data": {
      "text/plain": [
       "<IPython.core.display.Math object>"
      ],
      "text/latex": "$\\displaystyle \\frac{  16  }{  88  } = \\frac{  2   \\times   8   }{  11 \\times 8  }$"
     },
     "metadata": {},
     "output_type": "display_data",
     "jetTransient": {
      "display_id": null
     }
    }
   ],
   "execution_count": 31
  },
  {
   "metadata": {
    "ExecuteTime": {
     "end_time": "2025-10-17T07:38:00.497396Z",
     "start_time": "2025-10-17T07:38:00.489088Z"
    }
   },
   "cell_type": "code",
   "source": [
    "import sympy as sym\n",
    "\n",
    "from sympy.abc import a, b, c\n",
    "\n",
    "print(sym.gcd(a*c, b*c))\n",
    "print(c*sym.gcd(a, b))\n",
    "\n",
    "a = 10\n",
    "b = 20\n",
    "c = 30\n",
    "\n",
    "lhs = math.gcd(c*a, c*b)\n",
    "rhs = c*math.gcd(a, b)\n",
    "\n",
    "display(Eq(lhs, rhs))"
   ],
   "id": "947403b5f3cd94d8",
   "outputs": [
    {
     "name": "stdout",
     "output_type": "stream",
     "text": [
      "c\n",
      "c\n"
     ]
    },
    {
     "data": {
      "text/plain": [
       "True"
      ],
      "text/latex": "$\\displaystyle \\text{True}$"
     },
     "metadata": {},
     "output_type": "display_data",
     "jetTransient": {
      "display_id": null
     }
    }
   ],
   "execution_count": 39
  },
  {
   "metadata": {
    "ExecuteTime": {
     "end_time": "2025-10-17T07:45:55.544814Z",
     "start_time": "2025-10-17T07:45:55.533150Z"
    }
   },
   "cell_type": "code",
   "source": [
    "\n",
    "n = 10\n",
    "m = 15\n",
    "\n",
    "A = sym.Matrix(n, m, lambda i, j: 99)\n",
    "\n",
    "display(A)\n",
    "\n",
    "for i in range(n):\n",
    "    for j in range(m):\n",
    "        A[i,j] = math.gcd(i+1, j+1)\n",
    "\n",
    "display(A)"
   ],
   "id": "caf738477eb2756b",
   "outputs": [
    {
     "data": {
      "text/plain": [
       "Matrix([\n",
       "[99, 99, 99, 99, 99, 99, 99, 99, 99, 99, 99, 99, 99, 99, 99],\n",
       "[99, 99, 99, 99, 99, 99, 99, 99, 99, 99, 99, 99, 99, 99, 99],\n",
       "[99, 99, 99, 99, 99, 99, 99, 99, 99, 99, 99, 99, 99, 99, 99],\n",
       "[99, 99, 99, 99, 99, 99, 99, 99, 99, 99, 99, 99, 99, 99, 99],\n",
       "[99, 99, 99, 99, 99, 99, 99, 99, 99, 99, 99, 99, 99, 99, 99],\n",
       "[99, 99, 99, 99, 99, 99, 99, 99, 99, 99, 99, 99, 99, 99, 99],\n",
       "[99, 99, 99, 99, 99, 99, 99, 99, 99, 99, 99, 99, 99, 99, 99],\n",
       "[99, 99, 99, 99, 99, 99, 99, 99, 99, 99, 99, 99, 99, 99, 99],\n",
       "[99, 99, 99, 99, 99, 99, 99, 99, 99, 99, 99, 99, 99, 99, 99],\n",
       "[99, 99, 99, 99, 99, 99, 99, 99, 99, 99, 99, 99, 99, 99, 99]])"
      ],
      "text/latex": "$\\displaystyle \\left[\\begin{array}{ccccccccccccccc}99 & 99 & 99 & 99 & 99 & 99 & 99 & 99 & 99 & 99 & 99 & 99 & 99 & 99 & 99\\\\99 & 99 & 99 & 99 & 99 & 99 & 99 & 99 & 99 & 99 & 99 & 99 & 99 & 99 & 99\\\\99 & 99 & 99 & 99 & 99 & 99 & 99 & 99 & 99 & 99 & 99 & 99 & 99 & 99 & 99\\\\99 & 99 & 99 & 99 & 99 & 99 & 99 & 99 & 99 & 99 & 99 & 99 & 99 & 99 & 99\\\\99 & 99 & 99 & 99 & 99 & 99 & 99 & 99 & 99 & 99 & 99 & 99 & 99 & 99 & 99\\\\99 & 99 & 99 & 99 & 99 & 99 & 99 & 99 & 99 & 99 & 99 & 99 & 99 & 99 & 99\\\\99 & 99 & 99 & 99 & 99 & 99 & 99 & 99 & 99 & 99 & 99 & 99 & 99 & 99 & 99\\\\99 & 99 & 99 & 99 & 99 & 99 & 99 & 99 & 99 & 99 & 99 & 99 & 99 & 99 & 99\\\\99 & 99 & 99 & 99 & 99 & 99 & 99 & 99 & 99 & 99 & 99 & 99 & 99 & 99 & 99\\\\99 & 99 & 99 & 99 & 99 & 99 & 99 & 99 & 99 & 99 & 99 & 99 & 99 & 99 & 99\\end{array}\\right]$"
     },
     "metadata": {},
     "output_type": "display_data",
     "jetTransient": {
      "display_id": null
     }
    },
    {
     "data": {
      "text/plain": [
       "Matrix([\n",
       "[1, 1, 1, 1, 1, 1, 1, 1, 1,  1, 1, 1, 1, 1, 1],\n",
       "[1, 2, 1, 2, 1, 2, 1, 2, 1,  2, 1, 2, 1, 2, 1],\n",
       "[1, 1, 3, 1, 1, 3, 1, 1, 3,  1, 1, 3, 1, 1, 3],\n",
       "[1, 2, 1, 4, 1, 2, 1, 4, 1,  2, 1, 4, 1, 2, 1],\n",
       "[1, 1, 1, 1, 5, 1, 1, 1, 1,  5, 1, 1, 1, 1, 5],\n",
       "[1, 2, 3, 2, 1, 6, 1, 2, 3,  2, 1, 6, 1, 2, 3],\n",
       "[1, 1, 1, 1, 1, 1, 7, 1, 1,  1, 1, 1, 1, 7, 1],\n",
       "[1, 2, 1, 4, 1, 2, 1, 8, 1,  2, 1, 4, 1, 2, 1],\n",
       "[1, 1, 3, 1, 1, 3, 1, 1, 9,  1, 1, 3, 1, 1, 3],\n",
       "[1, 2, 1, 2, 5, 2, 1, 2, 1, 10, 1, 2, 1, 2, 5]])"
      ],
      "text/latex": "$\\displaystyle \\left[\\begin{array}{ccccccccccccccc}1 & 1 & 1 & 1 & 1 & 1 & 1 & 1 & 1 & 1 & 1 & 1 & 1 & 1 & 1\\\\1 & 2 & 1 & 2 & 1 & 2 & 1 & 2 & 1 & 2 & 1 & 2 & 1 & 2 & 1\\\\1 & 1 & 3 & 1 & 1 & 3 & 1 & 1 & 3 & 1 & 1 & 3 & 1 & 1 & 3\\\\1 & 2 & 1 & 4 & 1 & 2 & 1 & 4 & 1 & 2 & 1 & 4 & 1 & 2 & 1\\\\1 & 1 & 1 & 1 & 5 & 1 & 1 & 1 & 1 & 5 & 1 & 1 & 1 & 1 & 5\\\\1 & 2 & 3 & 2 & 1 & 6 & 1 & 2 & 3 & 2 & 1 & 6 & 1 & 2 & 3\\\\1 & 1 & 1 & 1 & 1 & 1 & 7 & 1 & 1 & 1 & 1 & 1 & 1 & 7 & 1\\\\1 & 2 & 1 & 4 & 1 & 2 & 1 & 8 & 1 & 2 & 1 & 4 & 1 & 2 & 1\\\\1 & 1 & 3 & 1 & 1 & 3 & 1 & 1 & 9 & 1 & 1 & 3 & 1 & 1 & 3\\\\1 & 2 & 1 & 2 & 5 & 2 & 1 & 2 & 1 & 10 & 1 & 2 & 1 & 2 & 5\\end{array}\\right]$"
     },
     "metadata": {},
     "output_type": "display_data",
     "jetTransient": {
      "display_id": null
     }
    }
   ],
   "execution_count": 49
  }
 ],
 "metadata": {
  "kernelspec": {
   "name": "python3",
   "language": "python",
   "display_name": "Python 3 (ipykernel)"
  }
 },
 "nbformat": 4,
 "nbformat_minor": 5
}
