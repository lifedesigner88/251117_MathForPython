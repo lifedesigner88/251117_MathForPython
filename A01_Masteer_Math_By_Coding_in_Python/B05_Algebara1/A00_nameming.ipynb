{
 "cells": [
  {
   "cell_type": "code",
   "id": "initial_id",
   "metadata": {
    "collapsed": true,
    "ExecuteTime": {
     "end_time": "2025-10-18T04:07:44.000713Z",
     "start_time": "2025-10-18T04:07:42.171206Z"
    }
   },
   "source": [
    "def convert_to_notebook_filename(chapter_name):\n",
    "    \"\"\"\n",
    "    단원 이름을 Jupyter Notebook 파일명 형식으로 변환합니다.\n",
    "\n",
    "    예시:\n",
    "    \"43. Solving inequalities\" -> \"C43_Solving_inequalities.ipynb\"\n",
    "    \"\"\"\n",
    "    # 챕터 번호와 이름 분리\n",
    "    parts = chapter_name.split('.', 1) # 첫 번째 '.'을 기준으로 한 번만 분리\n",
    "\n",
    "    if len(parts) == 2:\n",
    "        chapter_num = parts[0].strip()\n",
    "        chapter_title = parts[1].strip()\n",
    "\n",
    "        # 챕터 번호 앞에 'C' 추가\n",
    "        formatted_num = f\"C{chapter_num}\"\n",
    "\n",
    "        # 챕터 이름의 공백을 밑줄로 대체\n",
    "        # .ipynb 파일명에서 마침표(.)는 확장자 구분용으로만 사용되므로,\n",
    "        # 챕터 이름에 추가적인 마침표가 있다면 밑줄로 대체하는 것이 좋습니다.\n",
    "        formatted_title = chapter_title.replace(' ', '_').replace('.', '_')\n",
    "\n",
    "        # 최종 파일명 조합\n",
    "        filename = f\"{formatted_num}_{formatted_title}.ipynb\"\n",
    "    else:\n",
    "        # '.'이 없는 경우 등 예외 처리\n",
    "        # 단순히 공백을 밑줄로 바꾸고 C를 붙여서 처리\n",
    "        formatted_name = \"C\" + chapter_name.replace(' ', '_').replace('.', '_')\n",
    "        filename = f\"{formatted_name}.ipynb\"\n",
    "\n",
    "    return filename\n",
    "\n",
    "# 사용자로부터 단원 이름 입력 받기\n",
    "user_input_chapter_name = input(\"단원 이름을 입력하세요 (예: 43. Solving inequalities): \")\n",
    "\n",
    "# 함수 호출 및 결과 출력\n",
    "notebook_filename = convert_to_notebook_filename(user_input_chapter_name)\n",
    "print(f\"{notebook_filename}\")"
   ],
   "outputs": [
    {
     "name": "stdout",
     "output_type": "stream",
     "text": [
      "C44_Adding_polynomials.ipynb\n"
     ]
    }
   ],
   "execution_count": 3
  }
 ],
 "metadata": {
  "kernelspec": {
   "display_name": "Python 3",
   "language": "python",
   "name": "python3"
  },
  "language_info": {
   "codemirror_mode": {
    "name": "ipython",
    "version": 2
   },
   "file_extension": ".py",
   "mimetype": "text/x-python",
   "name": "python",
   "nbconvert_exporter": "python",
   "pygments_lexer": "ipython2",
   "version": "2.7.6"
  }
 },
 "nbformat": 4,
 "nbformat_minor": 5
}
