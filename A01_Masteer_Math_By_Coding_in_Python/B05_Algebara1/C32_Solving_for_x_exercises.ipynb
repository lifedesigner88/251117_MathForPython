{
 "cells": [
  {
   "metadata": {
    "ExecuteTime": {
     "end_time": "2025-10-17T03:48:39.837600Z",
     "start_time": "2025-10-17T03:48:39.810606Z"
    }
   },
   "cell_type": "code",
   "source": [
    "import sympy as sym\n",
    "from IPython.core.display import Math\n",
    "from sympy import Eq\n",
    "\n",
    "q = sym.symbols('q')\n",
    "\n",
    "leq = 3*q + 4/q + 3\n",
    "req = 5*q + 1/q + 1\n",
    "\n",
    "eq = Eq(leq, req)\n",
    "f_q = eq.lhs - eq.rhs\n",
    "\n",
    "display(eq)\n",
    "display(sym.simplify(f_q))\n",
    "\n",
    "sol = sym.solve(eq, q)\n",
    "display(Math(sym.latex(sol)))\n"
   ],
   "id": "59336bd242c04796",
   "outputs": [
    {
     "data": {
      "text/plain": [
       "-2*q + 2 + 3/q"
      ],
      "text/latex": "$\\displaystyle - 2 q + 2 + \\frac{3}{q}$"
     },
     "metadata": {},
     "output_type": "display_data",
     "jetTransient": {
      "display_id": null
     }
    },
    {
     "data": {
      "text/plain": [
       "Eq(3*q + 3 + 4/q, 5*q + 1 + 1/q)"
      ],
      "text/latex": "$\\displaystyle 3 q + 3 + \\frac{4}{q} = 5 q + 1 + \\frac{1}{q}$"
     },
     "metadata": {},
     "output_type": "display_data",
     "jetTransient": {
      "display_id": null
     }
    },
    {
     "data": {
      "text/plain": [
       "<IPython.core.display.Math object>"
      ],
      "text/latex": "$\\displaystyle \\left[ \\frac{1}{2} - \\frac{\\sqrt{7}}{2}, \\  \\frac{1}{2} + \\frac{\\sqrt{7}}{2}\\right]$"
     },
     "metadata": {},
     "output_type": "display_data",
     "jetTransient": {
      "display_id": null
     }
    }
   ],
   "execution_count": 34
  },
  {
   "metadata": {
    "ExecuteTime": {
     "end_time": "2025-10-17T03:51:38.854587Z",
     "start_time": "2025-10-17T03:51:38.836280Z"
    }
   },
   "cell_type": "code",
   "source": [
    "eq2 = 2*q + 3*q**2 - 5/q - 4/q**3\n",
    "\n",
    "display(sym.simplify(eq2))\n",
    "display(sym.cancel(eq2))\n"
   ],
   "id": "19341ca31791ed28",
   "outputs": [
    {
     "data": {
      "text/plain": [
       "3*q**2 + 2*q - 5/q - 4/q**3"
      ],
      "text/latex": "$\\displaystyle 3 q^{2} + 2 q - \\frac{5}{q} - \\frac{4}{q^{3}}$"
     },
     "metadata": {},
     "output_type": "display_data",
     "jetTransient": {
      "display_id": null
     }
    },
    {
     "data": {
      "text/plain": [
       "(3*q**5 + 2*q**4 - 5*q**2 - 4)/q**3"
      ],
      "text/latex": "$\\displaystyle \\frac{3 q^{5} + 2 q^{4} - 5 q^{2} - 4}{q^{3}}$"
     },
     "metadata": {},
     "output_type": "display_data",
     "jetTransient": {
      "display_id": null
     }
    }
   ],
   "execution_count": 39
  },
  {
   "metadata": {
    "ExecuteTime": {
     "end_time": "2025-10-17T04:06:12.665149Z",
     "start_time": "2025-10-17T04:06:12.657744Z"
    }
   },
   "cell_type": "code",
   "source": [
    "eq3 = sym.sqrt(3) + sym.sqrt(15)*q\n",
    "eq4 = sym.sqrt(2) + sym.sqrt(10)*q\n",
    "\n",
    "expr = eq3/eq4\n",
    "display(expr)\n",
    "\n",
    "\n",
    "expr.subs(q, 10).evalf()"
   ],
   "id": "6e43388508b76cba",
   "outputs": [
    {
     "data": {
      "text/plain": [
       "(sqrt(15)*q + sqrt(3))/(sqrt(10)*q + sqrt(2))"
      ],
      "text/latex": "$\\displaystyle \\frac{\\sqrt{15} q + \\sqrt{3}}{\\sqrt{10} q + \\sqrt{2}}$"
     },
     "metadata": {},
     "output_type": "display_data",
     "jetTransient": {
      "display_id": null
     }
    },
    {
     "data": {
      "text/plain": [
       "1.22474487139159"
      ],
      "text/latex": "$\\displaystyle 1.22474487139159$"
     },
     "execution_count": 47,
     "metadata": {},
     "output_type": "execute_result"
    }
   ],
   "execution_count": 47
  },
  {
   "metadata": {
    "ExecuteTime": {
     "end_time": "2025-10-17T04:08:08.722515Z",
     "start_time": "2025-10-17T04:08:08.699765Z"
    }
   },
   "cell_type": "code",
   "source": "expr.simplify()",
   "id": "d82ec149988ea172",
   "outputs": [
    {
     "data": {
      "text/plain": [
       "sqrt(6)/2"
      ],
      "text/latex": "$\\displaystyle \\frac{\\sqrt{6}}{2}$"
     },
     "execution_count": 48,
     "metadata": {},
     "output_type": "execute_result"
    }
   ],
   "execution_count": 48
  }
 ],
 "metadata": {
  "kernelspec": {
   "name": "python3",
   "language": "python",
   "display_name": "Python 3 (ipykernel)"
  }
 },
 "nbformat": 4,
 "nbformat_minor": 5
}
