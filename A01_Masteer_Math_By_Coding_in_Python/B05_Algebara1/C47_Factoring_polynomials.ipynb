{
 "cells": [
  {
   "metadata": {
    "ExecuteTime": {
     "end_time": "2025-10-18T06:32:15.125387Z",
     "start_time": "2025-10-18T06:32:15.110518Z"
    }
   },
   "cell_type": "code",
   "source": [
    "from IPython.display import Math\n",
    "from sympy import symbols, Add\n",
    "\n",
    "x, y = symbols('x, y')\n",
    "\n",
    "p = (x**2 + 4*x + 3)*(x - 2)\n",
    "\n",
    "print(type(p))\n",
    "display(p.factor())\n",
    "\n",
    "expr = 2*x**3*y - 2*x**2 + 2*x**2*y + 6*x**2 - 6*x*y + 6*x**3\n",
    "display(expr.factor())\n",
    "print(type(expr.factor()))\n"
   ],
   "id": "fbd190f28fb29ef6",
   "outputs": [
    {
     "name": "stdout",
     "output_type": "stream",
     "text": [
      "<class 'sympy.core.mul.Mul'>\n"
     ]
    },
    {
     "data": {
      "text/plain": [
       "(x - 2)*(x + 1)*(x + 3)"
      ],
      "text/latex": "$\\displaystyle \\left(x - 2\\right) \\left(x + 1\\right) \\left(x + 3\\right)$"
     },
     "metadata": {},
     "output_type": "display_data",
     "jetTransient": {
      "display_id": null
     }
    },
    {
     "data": {
      "text/plain": [
       "2*x*(x**2*y + 3*x**2 + x*y + 2*x - 3*y)"
      ],
      "text/latex": "$\\displaystyle 2 x \\left(x^{2} y + 3 x^{2} + x y + 2 x - 3 y\\right)$"
     },
     "metadata": {},
     "output_type": "display_data",
     "jetTransient": {
      "display_id": null
     }
    },
    {
     "name": "stdout",
     "output_type": "stream",
     "text": [
      "<class 'sympy.core.mul.Mul'>\n"
     ]
    }
   ],
   "execution_count": 38
  },
  {
   "metadata": {
    "ExecuteTime": {
     "end_time": "2025-10-18T06:37:52.081316Z",
     "start_time": "2025-10-18T06:37:52.069287Z"
    }
   },
   "cell_type": "code",
   "source": [
    "from sympy import latex, simplify\n",
    "\n",
    "# 인수분해는 곱의 형태로 나타낼 수 있는가에 대한 문제이다. 1은 보통 인수로 취급하지 않는다.\n",
    "\n",
    "\n",
    "eqlist = [x**2 + 4*x + 3, 2*y**2 - 1, 3*y**2 + 12*y]\n",
    "\n",
    "for eq in eqlist:\n",
    "    factored = eq.factor()\n",
    "    if isinstance(factored, Add):\n",
    "        display(Math(r'%s \\quad \\Rightarrow \\quad \\text{ is not factorable !}' %(latex(factored))))\n",
    "    else:\n",
    "        display(Math(r'%s \\quad \\Rightarrow \\quad %s' %(latex(eq), latex(factored))))\n",
    "\n"
   ],
   "id": "130f420672c83986",
   "outputs": [
    {
     "data": {
      "text/plain": [
       "<IPython.core.display.Math object>"
      ],
      "text/latex": "$\\displaystyle x^{2} + 4 x + 3 \\quad \\Rightarrow \\quad \\left(x + 1\\right) \\left(x + 3\\right)$"
     },
     "metadata": {},
     "output_type": "display_data",
     "jetTransient": {
      "display_id": null
     }
    },
    {
     "data": {
      "text/plain": [
       "<IPython.core.display.Math object>"
      ],
      "text/latex": "$\\displaystyle 2 y^{2} - 1 \\quad \\Rightarrow \\quad \\text{ is not factorable !}$"
     },
     "metadata": {},
     "output_type": "display_data",
     "jetTransient": {
      "display_id": null
     }
    },
    {
     "data": {
      "text/plain": [
       "<IPython.core.display.Math object>"
      ],
      "text/latex": "$\\displaystyle 3 y^{2} + 12 y \\quad \\Rightarrow \\quad 3 y \\left(y + 4\\right)$"
     },
     "metadata": {},
     "output_type": "display_data",
     "jetTransient": {
      "display_id": null
     }
    }
   ],
   "execution_count": 54
  }
 ],
 "metadata": {
  "kernelspec": {
   "name": "python3",
   "language": "python",
   "display_name": "Python 3 (ipykernel)"
  }
 },
 "nbformat": 4,
 "nbformat_minor": 5
}
