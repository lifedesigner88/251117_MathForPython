{
 "cells": [
  {
   "metadata": {},
   "cell_type": "code",
   "outputs": [],
   "execution_count": null,
   "source": "",
   "id": "30bb051eb243dd68"
  }
 ],
 "metadata": {},
 "nbformat": 4,
 "nbformat_minor": 5
}
