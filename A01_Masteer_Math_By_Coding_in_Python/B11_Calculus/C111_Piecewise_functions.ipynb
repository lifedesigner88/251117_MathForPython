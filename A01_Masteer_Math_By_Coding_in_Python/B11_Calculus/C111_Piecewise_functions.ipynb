{
 "cells": [
  {
   "metadata": {},
   "cell_type": "code",
   "outputs": [],
   "execution_count": null,
   "source": "",
   "id": "c82be8039c1dd9db"
  }
 ],
 "metadata": {},
 "nbformat": 4,
 "nbformat_minor": 5
}
