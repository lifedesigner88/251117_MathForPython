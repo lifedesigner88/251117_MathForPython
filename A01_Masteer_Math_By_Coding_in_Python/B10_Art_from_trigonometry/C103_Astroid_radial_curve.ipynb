{
 "cells": [
  {
   "metadata": {},
   "cell_type": "code",
   "outputs": [],
   "execution_count": null,
   "source": "",
   "id": "979f196257e7241d"
  }
 ],
 "metadata": {},
 "nbformat": 4,
 "nbformat_minor": 5
}
